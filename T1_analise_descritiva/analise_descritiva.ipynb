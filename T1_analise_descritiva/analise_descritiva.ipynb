{
 "cells": [
  {
   "cell_type": "code",
   "execution_count": 1,
   "source": [
    "import pandas as pd\n",
    "import numpy as np\n",
    "import matplotlib.pyplot as plt\n",
    "import scipy.stats as st\n",
    "import pylab"
   ],
   "outputs": [],
   "metadata": {
    "id": "L0GoC6vF0Y3Y"
   }
  },
  {
   "cell_type": "markdown",
   "source": [
    "# Introdução"
   ],
   "metadata": {
    "id": "ETrl9iFuoAmH"
   }
  },
  {
   "cell_type": "markdown",
   "source": [
    "## Explicação do dataset\n",
    "\n",
    "O banco de dados escolhido para a análise é o 'League of Legends Diamond Ranked Games (10 min)', que é uma base que contém informações de aproximadamente 10 mil partidas ranqueados do top 1,5% jogadores (jogadores classificados entre os ranques Diamante e Mestre) do jogo League of Legends.\n",
    "\n",
    "O League of Legends é um jogo online onde 10 jogadores jogam simultâneamente dividido entre 2 times de 5 jogadores. Cada jogador dentro do jogo possui uma função específica e o objetivo é destruir o Nexus do time adversário, que pode ser alcançado a partir da destruição das torres de cada uma das 3 rotas do jogo. Cada rota possui 3 torres e o Nexus é defendido por mais 2 torres. Os jogadores devem defender as torres de sua rota e destruir a torre dos adversários, enquanto acumulam ouro que pode ser utilizado para comprar equipamentos para fortalece-los e experiência que pode aumentar o nível de cada jogador.\n",
    "\n",
    " A análise a ser realizada verificará se certos conceitos, partindo de uma tese central, se relacionam entre si ou não. Um exemplo a ser dado seria a relação entre a diferença de ouro e abates obtidos pelo time azul, em que é esperado que ambas variáveis tenham uma relação proporcional entre elas.\n",
    "\n",
    "O dataset possui 18 atributos para cada time (sendo 36 ao total) dos dados de cada time até os 10 minutos da partida. Desse modo, resolvemos escolher os seguintes atributos:\n",
    "\n",
    "- __blueWardsPlaced__ (Sentinelas posicionadas pelo time Azul)\n",
    "  - As sentinelas são itens que um jogador pode utilizar para revelar a área próximo de onde é posicionada ao seu time e desse modo é utilizada para tomadas de decisões significativas e prevenir ser emboscado pelo time inimigo em uma situação desvantajosa que irá favorecer o time inimigo.\n",
    "\n",
    "- __blueKills__ (Abates realizados pelo time Azul)\n",
    "  - Os abates realizados por um time dão ouro adicional ao time que realizou o abate e permitindo que comprem equipamentos melhores e aumentem seu poder no jogo e o jogador que foi abatido fica fora do jogo por um período de tempo, impedindo que ele colete ouro por esse tempo, enfraquecendo esse jogador consequentemente.\n",
    "\n",
    "- __blueDeaths__ (Mortes do time Azul)\n",
    "  - Semelhante aos abates, as mortes contém o aspecto negativo do seu jogador ficar temporariamente fora do jogo sem poder coletar ouro enquanto o jogador que o abateu recebe ouro extra de recompensa por esse abate, além de continuar coletando o ouro de outros modos no jogo.\n",
    "\n",
    "- __blueElitblueEliteMonsters__ (Monstros Épicos derrotado pelo time Azul)\n",
    "  - Monstros que possuem muita vida e são mais difíceis de ser abatidos por possuirem muita vida e dano. O time que abate esses monstros ganham uma grande vantagem em ouro e experiência.\n",
    "\n",
    "- __blueGoldDiff__ (Diferença de ouro do time Azul)\n",
    "  - A diferença de ouro pode ser utilizada como parâmetro para facilitar o entendimento da vantagem de um time em comparação ao outro. O time com uma vantagem de ouro em geral consegue comprar mais equipamentos e consequentemente obtém mais poder no jogo do que o time inimigo.\n",
    "\n"
   ],
   "metadata": {
    "id": "MznS4Z3C6Qfq"
   }
  },
  {
   "cell_type": "markdown",
   "source": [
    "## Definição do problema\n"
   ],
   "metadata": {
    "id": "Lq1Rxo1TVHQK"
   }
  },
  {
   "cell_type": "markdown",
   "source": [],
   "metadata": {
    "id": "iPAuti7nb32k"
   }
  },
  {
   "cell_type": "code",
   "execution_count": 24,
   "source": [
    "url_lol = 'https://raw.githubusercontent.com/michellyrds/mqaa/master/datasets/high_diamond_ranked_10min.csv'\n",
    "\n",
    "url = url_lol\n",
    "raw_data = pd.read_csv(url)\n",
    "\n",
    "df = raw_data.filter(['blueWardsPlaced', 'blueKills', 'blueDeaths', 'blueEliteMonsters', 'blueGoldDiff'], axis=1)"
   ],
   "outputs": [],
   "metadata": {
    "id": "OWJcZxcDVsi1"
   }
  },
  {
   "cell_type": "code",
   "execution_count": 3,
   "source": [
    "df_csv = df.to_csv(r'/home/michelly/df.csv', index=False, header=True)"
   ],
   "outputs": [],
   "metadata": {
    "colab": {
     "base_uri": "https://localhost:8080/",
     "height": 310
    },
    "id": "6Ml6b3RfEdXe",
    "outputId": "672f2370-9792-45d3-ed5c-4b3ed748c195"
   }
  },
  {
   "cell_type": "markdown",
   "source": [
    "**Pré-processamento do Dataset**"
   ],
   "metadata": {
    "id": "ksyeLk6vLMDy"
   }
  },
  {
   "cell_type": "markdown",
   "source": [
    "Identificando dados faltantes"
   ],
   "metadata": {
    "id": "lT5QVZOZNqmS"
   }
  },
  {
   "cell_type": "code",
   "execution_count": 4,
   "source": [
    "df.isna().sum()"
   ],
   "outputs": [
    {
     "output_type": "execute_result",
     "data": {
      "text/plain": [
       "blueWardsPlaced      0\n",
       "blueKills            0\n",
       "blueDeaths           0\n",
       "blueEliteMonsters    0\n",
       "blueGoldDiff         0\n",
       "dtype: int64"
      ]
     },
     "metadata": {},
     "execution_count": 4
    }
   ],
   "metadata": {
    "colab": {
     "base_uri": "https://localhost:8080/"
    },
    "id": "sUL83vH1LIPN",
    "outputId": "dd350764-d5d3-489b-f69b-cd3670efbb70"
   }
  },
  {
   "cell_type": "markdown",
   "source": [
    "Normalizando dados"
   ],
   "metadata": {
    "id": "xz5Dih3YNtpy"
   }
  },
  {
   "cell_type": "code",
   "execution_count": 5,
   "source": [
    "normalized_df = (df-df.mean()) /df.std()\n",
    "normalized_df.head(10)"
   ],
   "outputs": [
    {
     "output_type": "execute_result",
     "data": {
      "text/html": [
       "<div>\n",
       "<style scoped>\n",
       "    .dataframe tbody tr th:only-of-type {\n",
       "        vertical-align: middle;\n",
       "    }\n",
       "\n",
       "    .dataframe tbody tr th {\n",
       "        vertical-align: top;\n",
       "    }\n",
       "\n",
       "    .dataframe thead th {\n",
       "        text-align: right;\n",
       "    }\n",
       "</style>\n",
       "<table border=\"1\" class=\"dataframe\">\n",
       "  <thead>\n",
       "    <tr style=\"text-align: right;\">\n",
       "      <th></th>\n",
       "      <th>blueWardsPlaced</th>\n",
       "      <th>blueKills</th>\n",
       "      <th>blueDeaths</th>\n",
       "      <th>blueEliteMonsters</th>\n",
       "      <th>blueGoldDiff</th>\n",
       "    </tr>\n",
       "  </thead>\n",
       "  <tbody>\n",
       "    <tr>\n",
       "      <th>0</th>\n",
       "      <td>0.316980</td>\n",
       "      <td>0.935254</td>\n",
       "      <td>-0.046924</td>\n",
       "      <td>-0.879186</td>\n",
       "      <td>0.256215</td>\n",
       "    </tr>\n",
       "    <tr>\n",
       "      <th>1</th>\n",
       "      <td>-0.570963</td>\n",
       "      <td>-0.393196</td>\n",
       "      <td>-0.387777</td>\n",
       "      <td>-0.879186</td>\n",
       "      <td>-1.191194</td>\n",
       "    </tr>\n",
       "    <tr>\n",
       "      <th>2</th>\n",
       "      <td>-0.404474</td>\n",
       "      <td>0.271029</td>\n",
       "      <td>1.657340</td>\n",
       "      <td>0.719467</td>\n",
       "      <td>-0.483590</td>\n",
       "    </tr>\n",
       "    <tr>\n",
       "      <th>3</th>\n",
       "      <td>1.149426</td>\n",
       "      <td>-0.725309</td>\n",
       "      <td>-0.387777</td>\n",
       "      <td>0.719467</td>\n",
       "      <td>-0.544323</td>\n",
       "    </tr>\n",
       "    <tr>\n",
       "      <th>4</th>\n",
       "      <td>2.925312</td>\n",
       "      <td>-0.061084</td>\n",
       "      <td>-0.046924</td>\n",
       "      <td>-0.879186</td>\n",
       "      <td>-0.415112</td>\n",
       "    </tr>\n",
       "    <tr>\n",
       "      <th>5</th>\n",
       "      <td>-0.237985</td>\n",
       "      <td>-0.393196</td>\n",
       "      <td>-1.069482</td>\n",
       "      <td>0.719467</td>\n",
       "      <td>0.278634</td>\n",
       "    </tr>\n",
       "    <tr>\n",
       "      <th>6</th>\n",
       "      <td>-0.237985</td>\n",
       "      <td>0.271029</td>\n",
       "      <td>-0.046924</td>\n",
       "      <td>0.719467</td>\n",
       "      <td>0.976863</td>\n",
       "    </tr>\n",
       "    <tr>\n",
       "      <th>7</th>\n",
       "      <td>-0.348978</td>\n",
       "      <td>-0.393196</td>\n",
       "      <td>2.339046</td>\n",
       "      <td>-0.879186</td>\n",
       "      <td>-1.071765</td>\n",
       "    </tr>\n",
       "    <tr>\n",
       "      <th>8</th>\n",
       "      <td>-0.348978</td>\n",
       "      <td>0.271029</td>\n",
       "      <td>0.293929</td>\n",
       "      <td>-0.879186</td>\n",
       "      <td>-0.812528</td>\n",
       "    </tr>\n",
       "    <tr>\n",
       "      <th>9</th>\n",
       "      <td>-0.515467</td>\n",
       "      <td>-0.725309</td>\n",
       "      <td>-0.387777</td>\n",
       "      <td>0.719467</td>\n",
       "      <td>-0.636849</td>\n",
       "    </tr>\n",
       "  </tbody>\n",
       "</table>\n",
       "</div>"
      ],
      "text/plain": [
       "   blueWardsPlaced  blueKills  blueDeaths  blueEliteMonsters  blueGoldDiff\n",
       "0         0.316980   0.935254   -0.046924          -0.879186      0.256215\n",
       "1        -0.570963  -0.393196   -0.387777          -0.879186     -1.191194\n",
       "2        -0.404474   0.271029    1.657340           0.719467     -0.483590\n",
       "3         1.149426  -0.725309   -0.387777           0.719467     -0.544323\n",
       "4         2.925312  -0.061084   -0.046924          -0.879186     -0.415112\n",
       "5        -0.237985  -0.393196   -1.069482           0.719467      0.278634\n",
       "6        -0.237985   0.271029   -0.046924           0.719467      0.976863\n",
       "7        -0.348978  -0.393196    2.339046          -0.879186     -1.071765\n",
       "8        -0.348978   0.271029    0.293929          -0.879186     -0.812528\n",
       "9        -0.515467  -0.725309   -0.387777           0.719467     -0.636849"
      ]
     },
     "metadata": {},
     "execution_count": 5
    }
   ],
   "metadata": {
    "colab": {
     "base_uri": "https://localhost:8080/",
     "height": 363
    },
    "id": "gNW-DC2caXfY",
    "outputId": "7f6fe37d-f68b-43be-ca23-a5a4639a7f65"
   }
  },
  {
   "cell_type": "markdown",
   "source": [
    "## Medidas de tendência central"
   ],
   "metadata": {
    "id": "UzZ5wdDK3Mte"
   }
  },
  {
   "cell_type": "code",
   "execution_count": 7,
   "source": [
    "## Média\n",
    "df.mean()"
   ],
   "outputs": [
    {
     "output_type": "execute_result",
     "data": {
      "text/plain": [
       "blueWardsPlaced      22.288288\n",
       "blueKills             6.183925\n",
       "blueDeaths            6.137666\n",
       "blueEliteMonsters     0.549954\n",
       "blueGoldDiff         14.414111\n",
       "dtype: float64"
      ]
     },
     "metadata": {},
     "execution_count": 7
    }
   ],
   "metadata": {
    "colab": {
     "base_uri": "https://localhost:8080/",
     "height": 398
    },
    "id": "-ZUjITe98ays",
    "outputId": "bf0db007-3e8e-4bf8-ea99-a3acf683a8b5"
   }
  },
  {
   "cell_type": "code",
   "execution_count": 8,
   "source": [
    "## Moda\n",
    "df.mode()"
   ],
   "outputs": [
    {
     "output_type": "execute_result",
     "data": {
      "text/html": [
       "<div>\n",
       "<style scoped>\n",
       "    .dataframe tbody tr th:only-of-type {\n",
       "        vertical-align: middle;\n",
       "    }\n",
       "\n",
       "    .dataframe tbody tr th {\n",
       "        vertical-align: top;\n",
       "    }\n",
       "\n",
       "    .dataframe thead th {\n",
       "        text-align: right;\n",
       "    }\n",
       "</style>\n",
       "<table border=\"1\" class=\"dataframe\">\n",
       "  <thead>\n",
       "    <tr style=\"text-align: right;\">\n",
       "      <th></th>\n",
       "      <th>blueWardsPlaced</th>\n",
       "      <th>blueKills</th>\n",
       "      <th>blueDeaths</th>\n",
       "      <th>blueEliteMonsters</th>\n",
       "      <th>blueGoldDiff</th>\n",
       "    </tr>\n",
       "  </thead>\n",
       "  <tbody>\n",
       "    <tr>\n",
       "      <th>0</th>\n",
       "      <td>16</td>\n",
       "      <td>6</td>\n",
       "      <td>5</td>\n",
       "      <td>0</td>\n",
       "      <td>428</td>\n",
       "    </tr>\n",
       "  </tbody>\n",
       "</table>\n",
       "</div>"
      ],
      "text/plain": [
       "   blueWardsPlaced  blueKills  blueDeaths  blueEliteMonsters  blueGoldDiff\n",
       "0               16          6           5                  0           428"
      ]
     },
     "metadata": {},
     "execution_count": 8
    }
   ],
   "metadata": {
    "id": "vWaU3MWc4Xzk"
   }
  },
  {
   "cell_type": "code",
   "execution_count": 9,
   "source": [
    "## Mediana\n",
    "df.median()"
   ],
   "outputs": [
    {
     "output_type": "execute_result",
     "data": {
      "text/plain": [
       "blueWardsPlaced      16.0\n",
       "blueKills             6.0\n",
       "blueDeaths            6.0\n",
       "blueEliteMonsters     0.0\n",
       "blueGoldDiff         14.0\n",
       "dtype: float64"
      ]
     },
     "metadata": {},
     "execution_count": 9
    }
   ],
   "metadata": {
    "id": "5ghJyVxK4quS"
   }
  },
  {
   "cell_type": "markdown",
   "source": [
    "## Histograma (das variáveis escolhidas)"
   ],
   "metadata": {
    "id": "eQ8Mv-8U873V"
   }
  },
  {
   "cell_type": "code",
   "execution_count": 10,
   "source": [
    "plt.title(\"Histograma da variável: blueWardsPlaced\")\n",
    "\n",
    "n, bins, patches = plt.hist(df['blueWardsPlaced'], 20, density=True, facecolor='g', alpha=0.75);\n",
    "plt.grid(True)\n",
    "plt.show()\n",
    "\n",
    "print(\"\")\n",
    "plt.title(\"Histograma da variável: blueKills\")\n",
    "\n",
    "n, bins, patches = plt.hist(df['blueKills'], 20, density=True, facecolor='b', alpha=0.75);\n",
    "plt.grid(True)\n",
    "plt.show()\n",
    "\n",
    "print(\"\")\n",
    "plt.title(\"Histograma da variável: blueDeaths\")\n",
    "\n",
    "n, bins, patches = plt.hist(df['blueDeaths'], 20, density=True, facecolor='r', alpha=0.75);\n",
    "plt.grid(True)\n",
    "plt.show()\n",
    "\n",
    "print(\"\")\n",
    "plt.title(\"Histograma da variável: blueEliteMonsters\")\n",
    "\n",
    "n, bins, patches = plt.hist(df['blueEliteMonsters'], 20, density=True, facecolor='orange', alpha=0.75);\n",
    "plt.grid(True)\n",
    "plt.show()\n",
    "\n",
    "print(\"\")\n",
    "plt.title(\"Histograma da variável: blueGoldDiff\")\n",
    "\n",
    "n, bins, patches = plt.hist(df['blueGoldDiff'], 20, density=True, facecolor='y', alpha=0.75);\n",
    "plt.grid(True)\n",
    "plt.show()"
   ],
   "outputs": [
    {
     "output_type": "display_data",
     "data": {
      "image/png": "[encoded data removed]",
      "text/plain": [
       "<Figure size 432x288 with 1 Axes>"
      ]
     },
     "metadata": {
      "needs_background": "light"
     }
    },
    {
     "output_type": "stream",
     "name": "stdout",
     "text": [
      "\n"
     ]
    },
    {
     "output_type": "display_data",
     "data": {
      "image/png": "[encoded data removed]",
      "text/plain": [
       "<Figure size 432x288 with 1 Axes>"
      ]
     },
     "metadata": {
      "needs_background": "light"
     }
    },
    {
     "output_type": "stream",
     "name": "stdout",
     "text": [
      "\n"
     ]
    },
    {
     "output_type": "display_data",
     "data": {
      "image/png": "[encoded data removed]",
      "text/plain": [
       "<Figure size 432x288 with 1 Axes>"
      ]
     },
     "metadata": {
      "needs_background": "light"
     }
    },
    {
     "output_type": "stream",
     "name": "stdout",
     "text": [
      "\n"
     ]
    },
    {
     "output_type": "display_data",
     "data": {
      "image/png": "[encoded data removed]",
      "text/plain": [
       "<Figure size 432x288 with 1 Axes>"
      ]
     },
     "metadata": {
      "needs_background": "light"
     }
    },
    {
     "output_type": "stream",
     "name": "stdout",
     "text": [
      "\n"
     ]
    },
    {
     "output_type": "display_data",
     "data": {
      "image/png": "[encoded data removed]",
      "text/plain": [
       "<Figure size 432x288 with 1 Axes>"
      ]
     },
     "metadata": {
      "needs_background": "light"
     }
    }
   ],
   "metadata": {
    "colab": {
     "base_uri": "https://localhost:8080/",
     "height": 1000
    },
    "id": "Fhy7JFDL9tW0",
    "outputId": "0558cd8c-178f-42a1-808b-91fd279555bb"
   }
  },
  {
   "cell_type": "markdown",
   "source": [
    "## Medidas de variabilidade"
   ],
   "metadata": {
    "id": "qprg1uX0Ehyq"
   }
  },
  {
   "cell_type": "code",
   "execution_count": 26,
   "source": [
    "## Variância\n",
    "\n",
    "df.var()"
   ],
   "outputs": [
    {
     "output_type": "execute_result",
     "data": {
      "text/plain": [
       "blueWardsPlaced      3.246907e+02\n",
       "blueKills            9.066289e+00\n",
       "blueDeaths           8.607286e+00\n",
       "blueEliteMonsters    3.912834e-01\n",
       "blueGoldDiff         6.018922e+06\n",
       "dtype: float64"
      ]
     },
     "metadata": {},
     "execution_count": 26
    }
   ],
   "metadata": {
    "id": "E7jTXVIzFFCG"
   }
  },
  {
   "cell_type": "code",
   "execution_count": 27,
   "source": [
    "## Desvio Padrão\n",
    "\n",
    "df.mad()"
   ],
   "outputs": [
    {
     "output_type": "execute_result",
     "data": {
      "text/plain": [
       "blueWardsPlaced        10.504574\n",
       "blueKills               2.399956\n",
       "blueDeaths              2.342013\n",
       "blueEliteMonsters       0.574059\n",
       "blueGoldDiff         1931.562328\n",
       "dtype: float64"
      ]
     },
     "metadata": {},
     "execution_count": 27
    }
   ],
   "metadata": {
    "id": "I5Hyo8mQGYuK"
   }
  },
  {
   "cell_type": "markdown",
   "source": [
    "## Avaliação de normalidade"
   ],
   "metadata": {
    "id": "nptMDcemHY9T"
   }
  },
  {
   "cell_type": "code",
   "execution_count": 28,
   "source": [
    "df_wards_placed = df.filter(['blueWardsPlaced'])\n",
    "df_wards_placed = df_wards_placed.to_numpy()\n",
    "df_wards_placed = np.reshape(df_wards_placed, (len(df_wards_placed),))\n",
    "st.probplot(df_wards_placed, dist='norm', plot=pylab)\n",
    "pylab.show()"
   ],
   "outputs": [
    {
     "output_type": "display_data",
     "data": {
      "image/png": "[encoded data removed]",
      "text/plain": [
       "<Figure size 432x288 with 1 Axes>"
      ]
     },
     "metadata": {
      "needs_background": "light"
     }
    }
   ],
   "metadata": {
    "colab": {
     "base_uri": "https://localhost:8080/",
     "height": 295
    },
    "id": "RwF3g8kaHfJC",
    "outputId": "8b812897-9e95-4a81-92a5-61391d0fdd5f"
   }
  },
  {
   "cell_type": "code",
   "execution_count": 29,
   "source": [
    "df_blue_kills = df.filter(['blueKills'])\n",
    "df_blue_kills = df_blue_kills.to_numpy()\n",
    "df_blue_kills = np.reshape(df_blue_kills, (len(df_blue_kills),))\n",
    "st.probplot(df_blue_kills, dist='norm', plot=pylab)\n",
    "pylab.show()\n"
   ],
   "outputs": [
    {
     "output_type": "display_data",
     "data": {
      "image/png": "[encoded data removed]",
      "text/plain": [
       "<Figure size 432x288 with 1 Axes>"
      ]
     },
     "metadata": {
      "needs_background": "light"
     }
    }
   ],
   "metadata": {
    "colab": {
     "base_uri": "https://localhost:8080/",
     "height": 295
    },
    "id": "WOTZMcPyHk6o",
    "outputId": "4d5a426c-9e99-4440-88f9-e541a7c7f842"
   }
  },
  {
   "cell_type": "code",
   "execution_count": 30,
   "source": [
    "df_blue_deaths = df.filter(['blueDeaths'])\n",
    "df_blue_deaths = df_blue_deaths.to_numpy()\n",
    "df_blue_deaths = np.reshape(df_blue_deaths, (len(df_blue_deaths),))\n",
    "st.probplot(df_blue_deaths, dist='norm', plot=pylab)\n",
    "pylab.show()"
   ],
   "outputs": [
    {
     "output_type": "display_data",
     "data": {
      "image/png": "[encoded data removed]",
      "text/plain": [
       "<Figure size 432x288 with 1 Axes>"
      ]
     },
     "metadata": {
      "needs_background": "light"
     }
    }
   ],
   "metadata": {
    "colab": {
     "base_uri": "https://localhost:8080/",
     "height": 295
    },
    "id": "84QBaca3HmZG",
    "outputId": "eaaeb775-331c-43d1-f04c-5e930bac3e3b"
   }
  },
  {
   "cell_type": "code",
   "execution_count": 31,
   "source": [
    "df_elite_monsters = df.filter(['blueEliteMonsters'])\n",
    "df_elite_monsters = df_elite_monsters.to_numpy()\n",
    "df_elite_monsters = np.reshape(df_elite_monsters, (len(df_elite_monsters),))\n",
    "st.probplot(df_elite_monsters, dist='norm', plot=pylab)\n",
    "pylab.show()"
   ],
   "outputs": [
    {
     "output_type": "display_data",
     "data": {
      "image/png": "[encoded data removed]",
      "text/plain": [
       "<Figure size 432x288 with 1 Axes>"
      ]
     },
     "metadata": {
      "needs_background": "light"
     }
    }
   ],
   "metadata": {
    "colab": {
     "base_uri": "https://localhost:8080/",
     "height": 295
    },
    "id": "Cg7HSviNHoff",
    "outputId": "5f72be61-0445-4275-eba5-a3991794b129"
   }
  },
  {
   "cell_type": "code",
   "execution_count": 32,
   "source": [
    "df_gold_diff = df.filter(['blueGoldDiff'])\n",
    "df_gold_diff = df_gold_diff.to_numpy()\n",
    "df_gold_diff = np.reshape(df_gold_diff, (len(df_gold_diff),))\n",
    "st.probplot(df_gold_diff, dist='norm', plot=pylab)\n",
    "pylab.show()"
   ],
   "outputs": [
    {
     "output_type": "display_data",
     "data": {
      "image/png": "[encoded data removed]",
      "text/plain": [
       "<Figure size 432x288 with 1 Axes>"
      ]
     },
     "metadata": {
      "needs_background": "light"
     }
    }
   ],
   "metadata": {
    "colab": {
     "base_uri": "https://localhost:8080/",
     "height": 295
    },
    "id": "-QwGUgHjHp0M",
    "outputId": "ffd19671-0005-4093-ba55-2f642013f992"
   }
  },
  {
   "cell_type": "markdown",
   "source": [
    "### Teste de D'Agostino-Pearson"
   ],
   "metadata": {
    "id": "XxNiN3bxt4ur"
   }
  },
  {
   "cell_type": "code",
   "execution_count": 33,
   "source": [
    "stat, p = st.normaltest(df['blueWardsPlaced'])\n",
    "print('stat=%.3f, p=%3f\\n'%(stat,p))\n",
    "if p > 0.05:\n",
    "    print(\"Distribuição Gaussiana\")\n",
    "else:\n",
    "    print(\"Distribuição não-Gaussiana\")"
   ],
   "outputs": [
    {
     "output_type": "stream",
     "name": "stdout",
     "text": [
      "stat=8521.829, p=0.000000\n",
      "\n",
      "Distribuição não-Gaussiana\n"
     ]
    }
   ],
   "metadata": {
    "colab": {
     "base_uri": "https://localhost:8080/"
    },
    "id": "kjz6Qccatql8",
    "outputId": "107426d0-d465-4acf-c8f2-77fe48d62ad6"
   }
  },
  {
   "cell_type": "code",
   "execution_count": 34,
   "source": [
    "stat, p = st.normaltest(df['blueKills'])\n",
    "print('stat=%.3f, p=%3f\\n'%(stat,p))\n",
    "if p > 0.05:\n",
    "    print(\"Distribuição Gaussiana\")\n",
    "else:\n",
    "    print(\"Distribuição não-Gaussiana\")"
   ],
   "outputs": [
    {
     "output_type": "stream",
     "name": "stdout",
     "text": [
      "stat=444.260, p=0.000000\n",
      "\n",
      "Distribuição não-Gaussiana\n"
     ]
    }
   ],
   "metadata": {
    "colab": {
     "base_uri": "https://localhost:8080/"
    },
    "id": "tbGRDEXtuNiX",
    "outputId": "4e71e83a-935f-4cfd-a75d-f5844b831849"
   }
  },
  {
   "cell_type": "code",
   "execution_count": 35,
   "source": [
    "stat, p = st.normaltest(df['blueDeaths'])\n",
    "print('stat=%.3f, p=%3f\\n'%(stat,p))\n",
    "if p > 0.05:\n",
    "    print(\"Distribuição Gaussiana\")\n",
    "else:\n",
    "    print(\"Distribuição não-Gaussiana\")"
   ],
   "outputs": [
    {
     "output_type": "stream",
     "name": "stdout",
     "text": [
      "stat=394.739, p=0.000000\n",
      "\n",
      "Distribuição não-Gaussiana\n"
     ]
    }
   ],
   "metadata": {
    "colab": {
     "base_uri": "https://localhost:8080/"
    },
    "id": "pAJk8VD1uPfs",
    "outputId": "cfc5eb45-432e-4e84-d8d6-18021bf0d00a"
   }
  },
  {
   "cell_type": "code",
   "execution_count": 36,
   "source": [
    "stat, p = st.normaltest(df['blueEliteMonsters'])\n",
    "print('stat=%.3f, p=%3f\\n'%(stat,p))\n",
    "if p > 0.05:\n",
    "    print(\"Distribuição Gaussiana\")\n",
    "else:\n",
    "    print(\"Distribuição não-Gaussiana\")"
   ],
   "outputs": [
    {
     "output_type": "stream",
     "name": "stdout",
     "text": [
      "stat=843.014, p=0.000000\n",
      "\n",
      "Distribuição não-Gaussiana\n"
     ]
    }
   ],
   "metadata": {
    "colab": {
     "base_uri": "https://localhost:8080/"
    },
    "id": "ItICjIQguP9G",
    "outputId": "24a17d90-6548-4489-9807-483e817f2f9c"
   }
  },
  {
   "cell_type": "code",
   "execution_count": 37,
   "source": [
    "stat, p = st.normaltest(df['blueGoldDiff'])\n",
    "print('stat=%.3f, p=%3f\\n'%(stat,p))\n",
    "if p > 0.05:\n",
    "    print(\"Distribuição Gaussiana\")\n",
    "else:\n",
    "    print(\"Distribuição não-Gaussiana\")"
   ],
   "outputs": [
    {
     "output_type": "stream",
     "name": "stdout",
     "text": [
      "stat=29.912, p=0.000000\n",
      "\n",
      "Distribuição não-Gaussiana\n"
     ]
    }
   ],
   "metadata": {
    "colab": {
     "base_uri": "https://localhost:8080/"
    },
    "id": "eyhZTtREuQaH",
    "outputId": "81d5aa06-d021-4a51-f5ff-60c4268013e5"
   }
  },
  {
   "cell_type": "markdown",
   "source": [
    "## Medidas separatrizes"
   ],
   "metadata": {
    "id": "SZQ8oT1uJlH4"
   }
  },
  {
   "cell_type": "code",
   "execution_count": 38,
   "source": [
    "df.boxplot(['blueWardsPlaced'])"
   ],
   "outputs": [
    {
     "output_type": "execute_result",
     "data": {
      "text/plain": [
       "<AxesSubplot:>"
      ]
     },
     "metadata": {},
     "execution_count": 38
    },
    {
     "output_type": "display_data",
     "data": {
      "image/png": "[encoded data removed]",
      "text/plain": [
       "<Figure size 432x288 with 1 Axes>"
      ]
     },
     "metadata": {
      "needs_background": "light"
     }
    }
   ],
   "metadata": {
    "colab": {
     "base_uri": "https://localhost:8080/",
     "height": 282
    },
    "id": "Jh7zzAq0JnWt",
    "outputId": "c70c3e01-1c6a-485f-a23c-1cdb71acaf84"
   }
  },
  {
   "cell_type": "code",
   "execution_count": 39,
   "source": [
    "df.boxplot(['blueKills'])"
   ],
   "outputs": [
    {
     "output_type": "execute_result",
     "data": {
      "text/plain": [
       "<AxesSubplot:>"
      ]
     },
     "metadata": {},
     "execution_count": 39
    },
    {
     "output_type": "display_data",
     "data": {
      "image/png": "[encoded data removed]",
      "text/plain": [
       "<Figure size 432x288 with 1 Axes>"
      ]
     },
     "metadata": {
      "needs_background": "light"
     }
    }
   ],
   "metadata": {
    "colab": {
     "base_uri": "https://localhost:8080/",
     "height": 282
    },
    "id": "fMbat2v3Jqqv",
    "outputId": "8daa24e6-b4b8-4492-be83-aed9e9220fab"
   }
  },
  {
   "cell_type": "code",
   "execution_count": 40,
   "source": [
    "df.boxplot(['blueDeaths'])"
   ],
   "outputs": [
    {
     "output_type": "execute_result",
     "data": {
      "text/plain": [
       "<AxesSubplot:>"
      ]
     },
     "metadata": {},
     "execution_count": 40
    },
    {
     "output_type": "display_data",
     "data": {
      "image/png": "[encoded data removed]",
      "text/plain": [
       "<Figure size 432x288 with 1 Axes>"
      ]
     },
     "metadata": {
      "needs_background": "light"
     }
    }
   ],
   "metadata": {
    "colab": {
     "base_uri": "https://localhost:8080/",
     "height": 282
    },
    "id": "ftM5XYW5Jq_t",
    "outputId": "c2428d3e-e2a1-4b82-a461-684f79c7915e"
   }
  },
  {
   "cell_type": "code",
   "execution_count": 41,
   "source": [
    "df.boxplot(['blueGoldDiff'])"
   ],
   "outputs": [
    {
     "output_type": "execute_result",
     "data": {
      "text/plain": [
       "<AxesSubplot:>"
      ]
     },
     "metadata": {},
     "execution_count": 41
    },
    {
     "output_type": "display_data",
     "data": {
      "image/png": "[encoded data removed]",
      "text/plain": [
       "<Figure size 432x288 with 1 Axes>"
      ]
     },
     "metadata": {
      "needs_background": "light"
     }
    }
   ],
   "metadata": {
    "colab": {
     "base_uri": "https://localhost:8080/",
     "height": 282
    },
    "id": "4MSEBTCRJrfv",
    "outputId": "8b83c18c-2ff4-4fbd-a887-ba9c4cea3a3f"
   }
  },
  {
   "cell_type": "code",
   "execution_count": 42,
   "source": [
    "df.boxplot(['blueEliteMonsters'])"
   ],
   "outputs": [
    {
     "output_type": "execute_result",
     "data": {
      "text/plain": [
       "<AxesSubplot:>"
      ]
     },
     "metadata": {},
     "execution_count": 42
    },
    {
     "output_type": "display_data",
     "data": {
      "image/png": "[encoded data removed]",
      "text/plain": [
       "<Figure size 432x288 with 1 Axes>"
      ]
     },
     "metadata": {
      "needs_background": "light"
     }
    }
   ],
   "metadata": {
    "colab": {
     "base_uri": "https://localhost:8080/",
     "height": 282
    },
    "id": "tW-Mu9v6JrNA",
    "outputId": "295ead9e-17fe-40a1-e4ee-1739d99ceefb"
   }
  }
 ],
 "metadata": {
  "colab": {
   "collapsed_sections": [],
   "name": "MQAA2021.ipynb",
   "provenance": []
  },
  "kernelspec": {
   "display_name": "Python 3 (ipykernel)",
   "language": "python",
   "name": "python3"
  },
  "language_info": {
   "codemirror_mode": {
    "name": "ipython",
    "version": 3
   },
   "file_extension": ".py",
   "mimetype": "text/x-python",
   "name": "python",
   "nbconvert_exporter": "python",
   "pygments_lexer": "ipython3",
   "version": "3.8.10"
  }
 },
 "nbformat": 4,
 "nbformat_minor": 1
}