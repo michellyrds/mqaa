{
 "cells": [
  {
   "cell_type": "code",
   "execution_count": 1,
   "metadata": {
    "executionInfo": {
     "elapsed": 794,
     "status": "ok",
     "timestamp": 1636422710474,
     "user": {
      "displayName": "Michelly Rodrigues da Silva",
      "photoUrl": "https://lh3.googleusercontent.com/a-/AOh14GgHQG68MCb7bCC1kdtxEgd9Es0QYSfqjcGN8tEULw=s64",
      "userId": "01858923490154251024"
     },
     "user_tz": 180
    },
    "id": "UG645WRnWIB-"
   },
   "outputs": [],
   "source": [
    "import pandas as pd\n",
    "import numpy as np\n",
    "import matplotlib.pyplot as plt\n",
    "import scipy.stats as st\n",
    "import pylab"
   ]
  },
  {
   "cell_type": "markdown",
   "metadata": {
    "id": "q4M1vgfYVvu_"
   },
   "source": [
    "Carregando o dataset e selecionando as colunas a serem trabalhadas na variável **df**."
   ]
  },
  {
   "cell_type": "code",
   "execution_count": 2,
   "metadata": {
    "colab": {
     "base_uri": "https://localhost:8080/"
    },
    "executionInfo": {
     "elapsed": 873,
     "status": "ok",
     "timestamp": 1636422712845,
     "user": {
      "displayName": "Michelly Rodrigues da Silva",
      "photoUrl": "https://lh3.googleusercontent.com/a-/AOh14GgHQG68MCb7bCC1kdtxEgd9Es0QYSfqjcGN8tEULw=s64",
      "userId": "01858923490154251024"
     },
     "user_tz": 180
    },
    "id": "QA7N5fCwT8nV",
    "outputId": "bac816d4-9572-4043-b0b3-8dff6bc07313"
   },
   "outputs": [
    {
     "data": {
      "text/plain": [
       "gameId                          7.602857e+14\n",
       "blueWins                        2.500244e-01\n",
       "blueWardsPlaced                 3.246907e+02\n",
       "blueWardsDestroyed              4.730618e+00\n",
       "blueFirstBlood                  2.500022e-01\n",
       "blueKills                       9.066289e+00\n",
       "blueDeaths                      8.607286e+00\n",
       "blueAssists                     1.652032e+01\n",
       "blueEliteMonsters               3.912834e-01\n",
       "blueDragons                     2.309738e-01\n",
       "blueHeralds                     1.526555e-01\n",
       "blueTowersDestroyed             5.971629e-02\n",
       "blueTotalGold                   2.357596e+06\n",
       "blueAvgLevel                    9.311397e-02\n",
       "blueTotalExperience             1.441257e+06\n",
       "blueTotalMinionsKilled          4.777913e+02\n",
       "blueTotalJungleMinionsKilled    9.797599e+01\n",
       "blueGoldDiff                    6.018922e+06\n",
       "blueExperienceDiff              3.687823e+06\n",
       "blueCSPerMin                    4.777913e+00\n",
       "blueGoldPerMin                  2.357596e+04\n",
       "redWardsPlaced                  3.406766e+02\n",
       "redWardsDestroyed               4.572567e+00\n",
       "redFirstBlood                   2.500022e-01\n",
       "redKills                        8.607286e+00\n",
       "redDeaths                       9.066289e+00\n",
       "redAssists                      1.648857e+01\n",
       "redEliteMonsters                3.924792e-01\n",
       "redDragons                      2.424727e-01\n",
       "redHeralds                      1.344384e-01\n",
       "redTowersDestroyed              4.704558e-02\n",
       "redTotalGold                    2.222748e+06\n",
       "redAvgLevel                     9.321506e-02\n",
       "redTotalExperience              1.436603e+06\n",
       "redTotalMinionsKilled           4.801212e+02\n",
       "redTotalJungleMinionsKilled     1.005585e+02\n",
       "redGoldDiff                     6.018922e+06\n",
       "redExperienceDiff               3.687823e+06\n",
       "redCSPerMin                     4.801212e+00\n",
       "redGoldPerMin                   2.222748e+04\n",
       "dtype: float64"
      ]
     },
     "execution_count": 2,
     "metadata": {},
     "output_type": "execute_result"
    }
   ],
   "source": [
    "url_lol = 'https://raw.githubusercontent.com/michellyrds/mqaa/master/datasets/high_diamond_ranked_10min.csv'\n",
    "\n",
    "url = url_lol\n",
    "raw_data = pd.read_csv(url)\n",
    "\n",
    "df = raw_data.filter(['blueWardsPlaced', 'blueKills', 'blueDeaths', 'blueEliteMonsters', 'blueGoldDiff',\n",
    "                     'redWardsPlaced', 'redKills', 'redDeaths', 'redEliteMonsters', 'redGoldDiff', 'gameId'], axis=1)\n",
    "\n",
    "df = df.rename(columns={'blueWardsPlaced' : 'azulSentinelas', \n",
    "                            'blueKills' : 'azulAbates',\n",
    "                            'blueDeaths' : 'azulMortes', \n",
    "                            'blueEliteMonsters' : 'azulMonstrosEpicos', \n",
    "                            'blueGoldDiff' : 'azulDiferencaOuros',\n",
    "                            'redWardsPlaced' : 'vermelhoSentinelas', \n",
    "                            'redKills' : 'vermelhoAbates',\n",
    "                            'redDeaths' : 'vermelhoMortes', \n",
    "                            'redEliteMonsters' : 'vermelhoMonstrosEpicos', \n",
    "                            'redGoldDiff' : 'vermelhoDiferencaOuros'})\n",
    "raw_data.var()"
   ]
  },
  {
   "cell_type": "code",
   "execution_count": 3,
   "metadata": {
    "colab": {
     "base_uri": "https://localhost:8080/",
     "height": 383
    },
    "executionInfo": {
     "elapsed": 413,
     "status": "ok",
     "timestamp": 1635200566834,
     "user": {
      "displayName": "Michelly Rodrigues da Silva",
      "photoUrl": "https://lh3.googleusercontent.com/a-/AOh14GgHQG68MCb7bCC1kdtxEgd9Es0QYSfqjcGN8tEULw=s64",
      "userId": "01858923490154251024"
     },
     "user_tz": 180
    },
    "id": "zcyfV_IgUvwu",
    "outputId": "c7edd56e-e46e-4654-88b9-6c251a42cb92"
   },
   "outputs": [
    {
     "data": {
      "text/html": [
       "<div>\n",
       "<style scoped>\n",
       "    .dataframe tbody tr th:only-of-type {\n",
       "        vertical-align: middle;\n",
       "    }\n",
       "\n",
       "    .dataframe tbody tr th {\n",
       "        vertical-align: top;\n",
       "    }\n",
       "\n",
       "    .dataframe thead th {\n",
       "        text-align: right;\n",
       "    }\n",
       "</style>\n",
       "<table border=\"1\" class=\"dataframe\">\n",
       "  <thead>\n",
       "    <tr style=\"text-align: right;\">\n",
       "      <th></th>\n",
       "      <th>azulSentinelas</th>\n",
       "      <th>azulAbates</th>\n",
       "      <th>azulMortes</th>\n",
       "      <th>azulMonstrosEpicos</th>\n",
       "      <th>azulDiferencaOuros</th>\n",
       "      <th>vermelhoSentinelas</th>\n",
       "      <th>vermelhoAbates</th>\n",
       "      <th>vermelhoMortes</th>\n",
       "      <th>vermelhoMonstrosEpicos</th>\n",
       "      <th>vermelhoDiferencaOuros</th>\n",
       "      <th>gameId</th>\n",
       "    </tr>\n",
       "  </thead>\n",
       "  <tbody>\n",
       "    <tr>\n",
       "      <th>0</th>\n",
       "      <td>28</td>\n",
       "      <td>9</td>\n",
       "      <td>6</td>\n",
       "      <td>0</td>\n",
       "      <td>643</td>\n",
       "      <td>15</td>\n",
       "      <td>6</td>\n",
       "      <td>9</td>\n",
       "      <td>0</td>\n",
       "      <td>-643</td>\n",
       "      <td>4519157822</td>\n",
       "    </tr>\n",
       "    <tr>\n",
       "      <th>1</th>\n",
       "      <td>12</td>\n",
       "      <td>5</td>\n",
       "      <td>5</td>\n",
       "      <td>0</td>\n",
       "      <td>-2908</td>\n",
       "      <td>12</td>\n",
       "      <td>5</td>\n",
       "      <td>5</td>\n",
       "      <td>2</td>\n",
       "      <td>2908</td>\n",
       "      <td>4523371949</td>\n",
       "    </tr>\n",
       "    <tr>\n",
       "      <th>2</th>\n",
       "      <td>15</td>\n",
       "      <td>7</td>\n",
       "      <td>11</td>\n",
       "      <td>1</td>\n",
       "      <td>-1172</td>\n",
       "      <td>15</td>\n",
       "      <td>11</td>\n",
       "      <td>7</td>\n",
       "      <td>0</td>\n",
       "      <td>1172</td>\n",
       "      <td>4521474530</td>\n",
       "    </tr>\n",
       "    <tr>\n",
       "      <th>3</th>\n",
       "      <td>43</td>\n",
       "      <td>4</td>\n",
       "      <td>5</td>\n",
       "      <td>1</td>\n",
       "      <td>-1321</td>\n",
       "      <td>15</td>\n",
       "      <td>5</td>\n",
       "      <td>4</td>\n",
       "      <td>0</td>\n",
       "      <td>1321</td>\n",
       "      <td>4524384067</td>\n",
       "    </tr>\n",
       "    <tr>\n",
       "      <th>4</th>\n",
       "      <td>75</td>\n",
       "      <td>6</td>\n",
       "      <td>6</td>\n",
       "      <td>0</td>\n",
       "      <td>-1004</td>\n",
       "      <td>17</td>\n",
       "      <td>6</td>\n",
       "      <td>6</td>\n",
       "      <td>1</td>\n",
       "      <td>1004</td>\n",
       "      <td>4436033771</td>\n",
       "    </tr>\n",
       "    <tr>\n",
       "      <th>5</th>\n",
       "      <td>18</td>\n",
       "      <td>5</td>\n",
       "      <td>3</td>\n",
       "      <td>1</td>\n",
       "      <td>698</td>\n",
       "      <td>36</td>\n",
       "      <td>3</td>\n",
       "      <td>5</td>\n",
       "      <td>0</td>\n",
       "      <td>-698</td>\n",
       "      <td>4475365709</td>\n",
       "    </tr>\n",
       "    <tr>\n",
       "      <th>6</th>\n",
       "      <td>18</td>\n",
       "      <td>7</td>\n",
       "      <td>6</td>\n",
       "      <td>1</td>\n",
       "      <td>2411</td>\n",
       "      <td>57</td>\n",
       "      <td>6</td>\n",
       "      <td>7</td>\n",
       "      <td>0</td>\n",
       "      <td>-2411</td>\n",
       "      <td>4493010632</td>\n",
       "    </tr>\n",
       "    <tr>\n",
       "      <th>7</th>\n",
       "      <td>16</td>\n",
       "      <td>5</td>\n",
       "      <td>13</td>\n",
       "      <td>0</td>\n",
       "      <td>-2615</td>\n",
       "      <td>15</td>\n",
       "      <td>13</td>\n",
       "      <td>5</td>\n",
       "      <td>1</td>\n",
       "      <td>2615</td>\n",
       "      <td>4496759358</td>\n",
       "    </tr>\n",
       "    <tr>\n",
       "      <th>8</th>\n",
       "      <td>16</td>\n",
       "      <td>7</td>\n",
       "      <td>7</td>\n",
       "      <td>0</td>\n",
       "      <td>-1979</td>\n",
       "      <td>15</td>\n",
       "      <td>7</td>\n",
       "      <td>7</td>\n",
       "      <td>2</td>\n",
       "      <td>1979</td>\n",
       "      <td>4443048030</td>\n",
       "    </tr>\n",
       "    <tr>\n",
       "      <th>9</th>\n",
       "      <td>13</td>\n",
       "      <td>4</td>\n",
       "      <td>5</td>\n",
       "      <td>1</td>\n",
       "      <td>-1548</td>\n",
       "      <td>16</td>\n",
       "      <td>5</td>\n",
       "      <td>4</td>\n",
       "      <td>0</td>\n",
       "      <td>1548</td>\n",
       "      <td>4509433346</td>\n",
       "    </tr>\n",
       "  </tbody>\n",
       "</table>\n",
       "</div>"
      ],
      "text/plain": [
       "   azulSentinelas  azulAbates  azulMortes  azulMonstrosEpicos  \\\n",
       "0              28           9           6                   0   \n",
       "1              12           5           5                   0   \n",
       "2              15           7          11                   1   \n",
       "3              43           4           5                   1   \n",
       "4              75           6           6                   0   \n",
       "5              18           5           3                   1   \n",
       "6              18           7           6                   1   \n",
       "7              16           5          13                   0   \n",
       "8              16           7           7                   0   \n",
       "9              13           4           5                   1   \n",
       "\n",
       "   azulDiferencaOuros  vermelhoSentinelas  vermelhoAbates  vermelhoMortes  \\\n",
       "0                 643                  15               6               9   \n",
       "1               -2908                  12               5               5   \n",
       "2               -1172                  15              11               7   \n",
       "3               -1321                  15               5               4   \n",
       "4               -1004                  17               6               6   \n",
       "5                 698                  36               3               5   \n",
       "6                2411                  57               6               7   \n",
       "7               -2615                  15              13               5   \n",
       "8               -1979                  15               7               7   \n",
       "9               -1548                  16               5               4   \n",
       "\n",
       "   vermelhoMonstrosEpicos  vermelhoDiferencaOuros      gameId  \n",
       "0                       0                    -643  4519157822  \n",
       "1                       2                    2908  4523371949  \n",
       "2                       0                    1172  4521474530  \n",
       "3                       0                    1321  4524384067  \n",
       "4                       1                    1004  4436033771  \n",
       "5                       0                    -698  4475365709  \n",
       "6                       0                   -2411  4493010632  \n",
       "7                       1                    2615  4496759358  \n",
       "8                       2                    1979  4443048030  \n",
       "9                       0                    1548  4509433346  "
      ]
     },
     "execution_count": 3,
     "metadata": {},
     "output_type": "execute_result"
    }
   ],
   "source": [
    "df.head(10)"
   ]
  },
  {
   "cell_type": "markdown",
   "metadata": {
    "id": "33fIUx9tUBF3"
   },
   "source": [
    "# TD2 - Análise de variância"
   ]
  },
  {
   "cell_type": "markdown",
   "metadata": {
    "id": "RnDBKXEzVSLZ"
   },
   "source": [
    "## Avaliando os requisitos e pressupostos "
   ]
  },
  {
   "cell_type": "markdown",
   "metadata": {
    "id": "wtNsSG51WrE8"
   },
   "source": [
    "- As variáveis dependentes são quantitativas?\n",
    "- A distribuição das variáves dependentes segue uma distribuição normal dentro de cada grupo?\n",
    "- A variância dos grupos são semelhantes?\n"
   ]
  },
  {
   "cell_type": "markdown",
   "metadata": {
    "id": "0YHBKg2PYZ2o"
   },
   "source": [
    "Variáveis de interesse: azulAbates (quantidade de abates realizados pelo time azul), azulMortes (quantidade de mortes dos integrantes do time azul) vermelhoAbates e vermelhoMortes."
   ]
  },
  {
   "cell_type": "markdown",
   "metadata": {
    "id": "uI_CCXv6ZDwy"
   },
   "source": [
    "Dados que as variáveis são quantitativas discretas, partimos para avaliação de sua normalidade plotando o histograma dos grupos e seus gráficos Q-Q:"
   ]
  },
  {
   "cell_type": "markdown",
   "metadata": {
    "id": "ipARezFjc3TU"
   },
   "source": [
    "### Plotando os histogramas das variáveis"
   ]
  },
  {
   "cell_type": "code",
   "execution_count": 4,
   "metadata": {
    "colab": {
     "base_uri": "https://localhost:8080/",
     "height": 265
    },
    "executionInfo": {
     "elapsed": 641,
     "status": "ok",
     "timestamp": 1635198566847,
     "user": {
      "displayName": "Michelly Rodrigues da Silva",
      "photoUrl": "https://lh3.googleusercontent.com/a-/AOh14GgHQG68MCb7bCC1kdtxEgd9Es0QYSfqjcGN8tEULw=s64",
      "userId": "01858923490154251024"
     },
     "user_tz": 180
    },
    "id": "95ujwz6bZUxA",
    "outputId": "2e25dacb-edbf-45c8-bf35-ebcf9bf6e532"
   },
   "outputs": [
    {
     "data": {
      "image/png": "[encoded data removed]",
      "text/plain": [
       "<Figure size 432x288 with 1 Axes>"
      ]
     },
     "metadata": {
      "needs_background": "light"
     },
     "output_type": "display_data"
    }
   ],
   "source": [
    "q25, q75 = np.percentile(df['azulAbates'], [0.25, 0.75])\n",
    "bin_width = 2 * (q75 - q25) * len(df['azulAbates']) ** (-1/3)\n",
    "bins = round((df['azulAbates'].max() - df['azulAbates'].min()) / bin_width)\n",
    "plt.hist(df['azulAbates'], bins=bins, density=True, facecolor='b', alpha=0.75)\n",
    "plt.grid(True)\n",
    "plt.show()"
   ]
  },
  {
   "cell_type": "code",
   "execution_count": 5,
   "metadata": {
    "colab": {
     "base_uri": "https://localhost:8080/",
     "height": 265
    },
    "executionInfo": {
     "elapsed": 935,
     "status": "ok",
     "timestamp": 1635198619744,
     "user": {
      "displayName": "Michelly Rodrigues da Silva",
      "photoUrl": "https://lh3.googleusercontent.com/a-/AOh14GgHQG68MCb7bCC1kdtxEgd9Es0QYSfqjcGN8tEULw=s64",
      "userId": "01858923490154251024"
     },
     "user_tz": 180
    },
    "id": "dMo1sRyYalus",
    "outputId": "e5e7176f-3dec-40d4-959d-f1a52e4deedc"
   },
   "outputs": [
    {
     "data": {
      "image/png": "[encoded data removed]",
      "text/plain": [
       "<Figure size 432x288 with 1 Axes>"
      ]
     },
     "metadata": {
      "needs_background": "light"
     },
     "output_type": "display_data"
    }
   ],
   "source": [
    "q25, q75 = np.percentile(df['azulMortes'], [0.25, 0.75])\n",
    "bin_width = 2 * (q75 - q25) * len(df['azulMortes']) ** (-1/3)\n",
    "bins = round((df['azulMortes'].max() - df['azulMortes'].min()) / bin_width)\n",
    "plt.hist(df['azulMortes'], bins=bins, density=True, facecolor='r', alpha=0.75)\n",
    "plt.grid(True)\n",
    "plt.show()"
   ]
  },
  {
   "cell_type": "code",
   "execution_count": 6,
   "metadata": {
    "colab": {
     "base_uri": "https://localhost:8080/",
     "height": 265
    },
    "executionInfo": {
     "elapsed": 896,
     "status": "ok",
     "timestamp": 1635200776694,
     "user": {
      "displayName": "Michelly Rodrigues da Silva",
      "photoUrl": "https://lh3.googleusercontent.com/a-/AOh14GgHQG68MCb7bCC1kdtxEgd9Es0QYSfqjcGN8tEULw=s64",
      "userId": "01858923490154251024"
     },
     "user_tz": 180
    },
    "id": "Qg5SP1vwjdkA",
    "outputId": "7da16c07-6a0e-4459-df67-8ef344bc6ff7"
   },
   "outputs": [
    {
     "data": {
      "image/png": "[encoded data removed]",
      "text/plain": [
       "<Figure size 432x288 with 1 Axes>"
      ]
     },
     "metadata": {
      "needs_background": "light"
     },
     "output_type": "display_data"
    }
   ],
   "source": [
    "q25, q75 = np.percentile(df['vermelhoAbates'], [0.25, 0.75])\n",
    "bin_width = 2 * (q75 - q25) * len(df['vermelhoAbates']) ** (-1/3)\n",
    "bins = round((df['vermelhoAbates'].max() - df['vermelhoAbates'].min()) / bin_width)\n",
    "plt.hist(df['vermelhoAbates'], bins=bins, density=True, facecolor='orange', alpha=0.75)\n",
    "plt.grid(True)\n",
    "plt.show()"
   ]
  },
  {
   "cell_type": "code",
   "execution_count": 7,
   "metadata": {
    "colab": {
     "base_uri": "https://localhost:8080/",
     "height": 265
    },
    "executionInfo": {
     "elapsed": 911,
     "status": "ok",
     "timestamp": 1635200793036,
     "user": {
      "displayName": "Michelly Rodrigues da Silva",
      "photoUrl": "https://lh3.googleusercontent.com/a-/AOh14GgHQG68MCb7bCC1kdtxEgd9Es0QYSfqjcGN8tEULw=s64",
      "userId": "01858923490154251024"
     },
     "user_tz": 180
    },
    "id": "Y9DmPOVVjftk",
    "outputId": "15bb007f-71c0-42ab-9fc7-d31c269a4149"
   },
   "outputs": [
    {
     "data": {
      "image/png": "[encoded data removed]",
      "text/plain": [
       "<Figure size 432x288 with 1 Axes>"
      ]
     },
     "metadata": {
      "needs_background": "light"
     },
     "output_type": "display_data"
    }
   ],
   "source": [
    "q25, q75 = np.percentile(df['vermelhoMortes'], [0.25, 0.75])\n",
    "bin_width = 2 * (q75 - q25) * len(df['vermelhoMortes']) ** (-1/3)\n",
    "bins = round((df['vermelhoMortes'].max() - df['vermelhoMortes'].min()) / bin_width)\n",
    "plt.hist(df['vermelhoMortes'], bins=bins, density=True, facecolor='g', alpha=0.75)\n",
    "plt.grid(True)\n",
    "plt.show()"
   ]
  },
  {
   "cell_type": "markdown",
   "metadata": {
    "id": "2KQfnzvacsrJ"
   },
   "source": [
    "### Plotando os gráficos Q-Q"
   ]
  },
  {
   "cell_type": "code",
   "execution_count": 8,
   "metadata": {
    "colab": {
     "base_uri": "https://localhost:8080/",
     "height": 295
    },
    "executionInfo": {
     "elapsed": 359,
     "status": "ok",
     "timestamp": 1635199108026,
     "user": {
      "displayName": "Michelly Rodrigues da Silva",
      "photoUrl": "https://lh3.googleusercontent.com/a-/AOh14GgHQG68MCb7bCC1kdtxEgd9Es0QYSfqjcGN8tEULw=s64",
      "userId": "01858923490154251024"
     },
     "user_tz": 180
    },
    "id": "PEpwxFAzdALy",
    "outputId": "bd9c603d-dddd-4147-ca3a-aae763180547"
   },
   "outputs": [
    {
     "data": {
      "image/png": "[encoded data removed]",
      "text/plain": [
       "<Figure size 432x288 with 1 Axes>"
      ]
     },
     "metadata": {
      "needs_background": "light"
     },
     "output_type": "display_data"
    }
   ],
   "source": [
    "df_azul_abates = df.filter(['azulAbates'])\n",
    "df_azul_abates = df_azul_abates.to_numpy()\n",
    "df_azul_abates = np.reshape(df_azul_abates, (len(df_azul_abates),))\n",
    "st.probplot(df_azul_abates, dist='norm', plot=pylab)\n",
    "pylab.show()"
   ]
  },
  {
   "cell_type": "code",
   "execution_count": 9,
   "metadata": {
    "colab": {
     "base_uri": "https://localhost:8080/",
     "height": 295
    },
    "executionInfo": {
     "elapsed": 348,
     "status": "ok",
     "timestamp": 1635199119124,
     "user": {
      "displayName": "Michelly Rodrigues da Silva",
      "photoUrl": "https://lh3.googleusercontent.com/a-/AOh14GgHQG68MCb7bCC1kdtxEgd9Es0QYSfqjcGN8tEULw=s64",
      "userId": "01858923490154251024"
     },
     "user_tz": 180
    },
    "id": "Zlz87A27cq9b",
    "outputId": "36dbe7ef-157f-46a7-e92e-43880cb0221b"
   },
   "outputs": [
    {
     "data": {
      "image/png": "[encoded data removed]",
      "text/plain": [
       "<Figure size 432x288 with 1 Axes>"
      ]
     },
     "metadata": {
      "needs_background": "light"
     },
     "output_type": "display_data"
    }
   ],
   "source": [
    "df_azul_mortes = df.filter(['azulMortes'])\n",
    "df_azul_mortes = df_azul_mortes.to_numpy()\n",
    "df_azul_mortes = np.reshape(df_azul_mortes, (len(df_azul_mortes),))\n",
    "st.probplot(df_azul_mortes, dist='norm', plot=pylab)\n",
    "pylab.show()"
   ]
  },
  {
   "cell_type": "code",
   "execution_count": 10,
   "metadata": {
    "colab": {
     "base_uri": "https://localhost:8080/",
     "height": 295
    },
    "executionInfo": {
     "elapsed": 340,
     "status": "ok",
     "timestamp": 1635200917473,
     "user": {
      "displayName": "Michelly Rodrigues da Silva",
      "photoUrl": "https://lh3.googleusercontent.com/a-/AOh14GgHQG68MCb7bCC1kdtxEgd9Es0QYSfqjcGN8tEULw=s64",
      "userId": "01858923490154251024"
     },
     "user_tz": 180
    },
    "id": "yZ9rxb7qkDoi",
    "outputId": "6447ff00-257d-4e69-ee09-c2679394bf83"
   },
   "outputs": [
    {
     "data": {
      "image/png": "[encoded data removed]",
      "text/plain": [
       "<Figure size 432x288 with 1 Axes>"
      ]
     },
     "metadata": {
      "needs_background": "light"
     },
     "output_type": "display_data"
    }
   ],
   "source": [
    "df_azul_abates = df.filter(['vermelhoAbates'])\n",
    "df_azul_abates = df_azul_abates.to_numpy()\n",
    "df_azul_abates = np.reshape(df_azul_abates, (len(df_azul_abates),))\n",
    "st.probplot(df_azul_abates, dist='norm', plot=pylab)\n",
    "pylab.show()"
   ]
  },
  {
   "cell_type": "code",
   "execution_count": 11,
   "metadata": {
    "colab": {
     "base_uri": "https://localhost:8080/",
     "height": 295
    },
    "executionInfo": {
     "elapsed": 482,
     "status": "ok",
     "timestamp": 1635200920765,
     "user": {
      "displayName": "Michelly Rodrigues da Silva",
      "photoUrl": "https://lh3.googleusercontent.com/a-/AOh14GgHQG68MCb7bCC1kdtxEgd9Es0QYSfqjcGN8tEULw=s64",
      "userId": "01858923490154251024"
     },
     "user_tz": 180
    },
    "id": "xoZwyqHCkD2a",
    "outputId": "bdd2f558-4a8f-4f63-c8ff-95c22bb3e669"
   },
   "outputs": [
    {
     "data": {
      "image/png": "[encoded data removed]",
      "text/plain": [
       "<Figure size 432x288 with 1 Axes>"
      ]
     },
     "metadata": {
      "needs_background": "light"
     },
     "output_type": "display_data"
    }
   ],
   "source": [
    "df_azul_abates = df.filter(['vermelhoMortes'])\n",
    "df_azul_abates = df_azul_abates.to_numpy()\n",
    "df_azul_abates = np.reshape(df_azul_abates, (len(df_azul_abates),))\n",
    "st.probplot(df_azul_abates, dist='norm', plot=pylab)\n",
    "pylab.show()"
   ]
  },
  {
   "cell_type": "markdown",
   "metadata": {
    "id": "y4ULvWq2dDV1"
   },
   "source": [
    "Assim, vemos que ambas variáveis possuem distribuição normal."
   ]
  },
  {
   "cell_type": "markdown",
   "metadata": {
    "id": "zbYSh-LaZPPr"
   },
   "source": [
    "Por fim, avaliando sua variância: "
   ]
  },
  {
   "cell_type": "code",
   "execution_count": 12,
   "metadata": {
    "colab": {
     "base_uri": "https://localhost:8080/"
    },
    "executionInfo": {
     "elapsed": 302,
     "status": "ok",
     "timestamp": 1635200925975,
     "user": {
      "displayName": "Michelly Rodrigues da Silva",
      "photoUrl": "https://lh3.googleusercontent.com/a-/AOh14GgHQG68MCb7bCC1kdtxEgd9Es0QYSfqjcGN8tEULw=s64",
      "userId": "01858923490154251024"
     },
     "user_tz": 180
    },
    "id": "gj5vqmsYU_aO",
    "outputId": "34922d9b-c819-4535-c5d7-4e65b65943c0"
   },
   "outputs": [
    {
     "data": {
      "text/plain": [
       "azulSentinelas                       324.69072\n",
       "azulAbates                             9.06629\n",
       "azulMortes                             8.60729\n",
       "azulMonstrosEpicos                     0.39128\n",
       "azulDiferencaOuros               6018922.19608\n",
       "vermelhoSentinelas                   340.67660\n",
       "vermelhoAbates                         8.60729\n",
       "vermelhoMortes                         9.06629\n",
       "vermelhoMonstrosEpicos                 0.39248\n",
       "vermelhoDiferencaOuros           6018922.19608\n",
       "gameId                   760285686737577.75000\n",
       "dtype: float64"
      ]
     },
     "execution_count": 12,
     "metadata": {},
     "output_type": "execute_result"
    }
   ],
   "source": [
    "pd.set_option('display.float_format', '{:.5f}'.format)\n",
    "df.var()"
   ]
  },
  {
   "cell_type": "markdown",
   "metadata": {
    "id": "S-ztK9HiwdYF"
   },
   "source": [
    "### Teste de Bartlett\n",
    "\n",
    "Para testar a homocedasticidade da variância dos grupos, usaremos o teste de Bartlett (supondo a distribuição normal das variáveis).\n",
    "\n",
    "Teste de hipótese:\n",
    "\n",
    "**hipótese nula**: as variâncias são igual entre os grupos.  \n",
    "**hipótese alternativa**: as variâncias não são iguais entre os grupos.  \n",
    "\n",
    "(se o p-value for maior que 0.05, assumimos que os dados são heterocedástico)"
   ]
  },
  {
   "cell_type": "code",
   "execution_count": 13,
   "metadata": {
    "colab": {
     "base_uri": "https://localhost:8080/"
    },
    "executionInfo": {
     "elapsed": 467,
     "status": "ok",
     "timestamp": 1635205424910,
     "user": {
      "displayName": "Michelly Rodrigues da Silva",
      "photoUrl": "https://lh3.googleusercontent.com/a-/AOh14GgHQG68MCb7bCC1kdtxEgd9Es0QYSfqjcGN8tEULw=s64",
      "userId": "01858923490154251024"
     },
     "user_tz": 180
    },
    "id": "s-9VAzITzQpI",
    "outputId": "14adc108-883c-4b18-c8a8-d70a6a66c764"
   },
   "outputs": [
    {
     "name": "stdout",
     "output_type": "stream",
     "text": [
      "Teste de Bartlett\n",
      " T: 6.664628758360342, p-value:0.009834513995897064\n",
      "\n"
     ]
    }
   ],
   "source": [
    "from scipy.stats import bartlett\n",
    "\n",
    "trt1 = df['azulAbates']\n",
    "trt2 = df['vermelhoAbates']\n",
    "\n",
    "stat, p = bartlett(trt1, trt2)\n",
    "\n",
    "print('Teste de Bartlett\\n T: {}, p-value:{}\\n'.format(stat, p))"
   ]
  },
  {
   "cell_type": "code",
   "execution_count": 15,
   "metadata": {
    "colab": {
     "base_uri": "https://localhost:8080/",
     "height": 358
    },
    "executionInfo": {
     "elapsed": 373,
     "status": "error",
     "timestamp": 1636423050861,
     "user": {
      "displayName": "Michelly Rodrigues da Silva",
      "photoUrl": "https://lh3.googleusercontent.com/a-/AOh14GgHQG68MCb7bCC1kdtxEgd9Es0QYSfqjcGN8tEULw=s64",
      "userId": "01858923490154251024"
     },
     "user_tz": 180
    },
    "id": "IlZSO5PkZKug",
    "outputId": "38c20227-7078-41dc-e118-39c199d6926c"
   },
   "outputs": [
    {
     "name": "stdout",
     "output_type": "stream",
     "text": [
      "Teste de Levene\n",
      " T: 3.871466428305947, p-value:0.04912755919737866\n",
      "\n"
     ]
    }
   ],
   "source": [
    "from scipy.stats import levene\n",
    "\n",
    "trt1 = df['azulAbates']\n",
    "trt2 = df['vermelhoAbates']\n",
    "\n",
    "stat, p = levene(trt1, trt2)\n",
    "\n",
    "print('Teste de Levene\\n T: {}, p-value:{}\\n'.format(stat, p))"
   ]
  },
  {
   "cell_type": "code",
   "execution_count": 16,
   "metadata": {
    "colab": {
     "base_uri": "https://localhost:8080/"
    },
    "executionInfo": {
     "elapsed": 487,
     "status": "ok",
     "timestamp": 1635205436270,
     "user": {
      "displayName": "Michelly Rodrigues da Silva",
      "photoUrl": "https://lh3.googleusercontent.com/a-/AOh14GgHQG68MCb7bCC1kdtxEgd9Es0QYSfqjcGN8tEULw=s64",
      "userId": "01858923490154251024"
     },
     "user_tz": 180
    },
    "id": "pI8OFtdYxMn3",
    "outputId": "f5b2a234-faa6-4b1b-d990-3c93dd1f8f1b"
   },
   "outputs": [
    {
     "name": "stdout",
     "output_type": "stream",
     "text": [
      "Teste de Bartlett\n",
      " T: 6.664628758360342, p-value:0.009834513995897064\n",
      "\n"
     ]
    }
   ],
   "source": [
    "from scipy.stats import bartlett\n",
    "\n",
    "trt1 = df['azulMortes']\n",
    "trt2 = df['vermelhoMortes']\n",
    "\n",
    "stat, p = bartlett(trt1, trt2)\n",
    "\n",
    "print('Teste de Bartlett\\n T: {}, p-value:{}\\n'.format(stat, p))"
   ]
  },
  {
   "cell_type": "markdown",
   "metadata": {
    "id": "MTAE7NejU0Ct"
   },
   "source": [
    "## Aplicando a ANOVA\n"
   ]
  },
  {
   "cell_type": "markdown",
   "metadata": {
    "id": "qvcjv4A2fMWz"
   },
   "source": [
    "- Iremos avaliar 2 grupos: time azul e time vermelho, a partir das variáveis azulAbates, azulMortes, vermelhoAbates e vermelhoMortes;\n",
    "- Situação de interesse: verificar se há significância estatística no número de abates e mortes dos times azul e vermelho;\n",
    "- Diferença das variáveis métricas abates e mortes.\n"
   ]
  },
  {
   "cell_type": "markdown",
   "metadata": {
    "id": "-adYVTmHstTZ"
   },
   "source": [
    "Dado que as amostras são relacionadas, o teste utilizado será ANOVA para medidas repetidas."
   ]
  },
  {
   "cell_type": "code",
   "execution_count": 17,
   "metadata": {
    "colab": {
     "base_uri": "https://localhost:8080/",
     "height": 383
    },
    "executionInfo": {
     "elapsed": 361,
     "status": "ok",
     "timestamp": 1635206053845,
     "user": {
      "displayName": "Michelly Rodrigues da Silva",
      "photoUrl": "https://lh3.googleusercontent.com/a-/AOh14GgHQG68MCb7bCC1kdtxEgd9Es0QYSfqjcGN8tEULw=s64",
      "userId": "01858923490154251024"
     },
     "user_tz": 180
    },
    "id": "I9wgTVukU__B",
    "outputId": "598caa75-efcf-4106-c593-96d46802dd75"
   },
   "outputs": [
    {
     "data": {
      "text/html": [
       "<div>\n",
       "<style scoped>\n",
       "    .dataframe tbody tr th:only-of-type {\n",
       "        vertical-align: middle;\n",
       "    }\n",
       "\n",
       "    .dataframe tbody tr th {\n",
       "        vertical-align: top;\n",
       "    }\n",
       "\n",
       "    .dataframe thead th {\n",
       "        text-align: right;\n",
       "    }\n",
       "</style>\n",
       "<table border=\"1\" class=\"dataframe\">\n",
       "  <thead>\n",
       "    <tr style=\"text-align: right;\">\n",
       "      <th></th>\n",
       "      <th>azulSentinelas</th>\n",
       "      <th>azulAbates</th>\n",
       "      <th>azulMortes</th>\n",
       "      <th>azulMonstrosEpicos</th>\n",
       "      <th>azulDiferencaOuros</th>\n",
       "      <th>vermelhoSentinelas</th>\n",
       "      <th>vermelhoAbates</th>\n",
       "      <th>vermelhoMortes</th>\n",
       "      <th>vermelhoMonstrosEpicos</th>\n",
       "      <th>vermelhoDiferencaOuros</th>\n",
       "      <th>gameId</th>\n",
       "    </tr>\n",
       "  </thead>\n",
       "  <tbody>\n",
       "    <tr>\n",
       "      <th>0</th>\n",
       "      <td>28</td>\n",
       "      <td>9</td>\n",
       "      <td>6</td>\n",
       "      <td>0</td>\n",
       "      <td>643</td>\n",
       "      <td>15</td>\n",
       "      <td>6</td>\n",
       "      <td>9</td>\n",
       "      <td>0</td>\n",
       "      <td>-643</td>\n",
       "      <td>4519157822</td>\n",
       "    </tr>\n",
       "    <tr>\n",
       "      <th>1</th>\n",
       "      <td>12</td>\n",
       "      <td>5</td>\n",
       "      <td>5</td>\n",
       "      <td>0</td>\n",
       "      <td>-2908</td>\n",
       "      <td>12</td>\n",
       "      <td>5</td>\n",
       "      <td>5</td>\n",
       "      <td>2</td>\n",
       "      <td>2908</td>\n",
       "      <td>4523371949</td>\n",
       "    </tr>\n",
       "    <tr>\n",
       "      <th>2</th>\n",
       "      <td>15</td>\n",
       "      <td>7</td>\n",
       "      <td>11</td>\n",
       "      <td>1</td>\n",
       "      <td>-1172</td>\n",
       "      <td>15</td>\n",
       "      <td>11</td>\n",
       "      <td>7</td>\n",
       "      <td>0</td>\n",
       "      <td>1172</td>\n",
       "      <td>4521474530</td>\n",
       "    </tr>\n",
       "    <tr>\n",
       "      <th>3</th>\n",
       "      <td>43</td>\n",
       "      <td>4</td>\n",
       "      <td>5</td>\n",
       "      <td>1</td>\n",
       "      <td>-1321</td>\n",
       "      <td>15</td>\n",
       "      <td>5</td>\n",
       "      <td>4</td>\n",
       "      <td>0</td>\n",
       "      <td>1321</td>\n",
       "      <td>4524384067</td>\n",
       "    </tr>\n",
       "    <tr>\n",
       "      <th>4</th>\n",
       "      <td>75</td>\n",
       "      <td>6</td>\n",
       "      <td>6</td>\n",
       "      <td>0</td>\n",
       "      <td>-1004</td>\n",
       "      <td>17</td>\n",
       "      <td>6</td>\n",
       "      <td>6</td>\n",
       "      <td>1</td>\n",
       "      <td>1004</td>\n",
       "      <td>4436033771</td>\n",
       "    </tr>\n",
       "    <tr>\n",
       "      <th>5</th>\n",
       "      <td>18</td>\n",
       "      <td>5</td>\n",
       "      <td>3</td>\n",
       "      <td>1</td>\n",
       "      <td>698</td>\n",
       "      <td>36</td>\n",
       "      <td>3</td>\n",
       "      <td>5</td>\n",
       "      <td>0</td>\n",
       "      <td>-698</td>\n",
       "      <td>4475365709</td>\n",
       "    </tr>\n",
       "    <tr>\n",
       "      <th>6</th>\n",
       "      <td>18</td>\n",
       "      <td>7</td>\n",
       "      <td>6</td>\n",
       "      <td>1</td>\n",
       "      <td>2411</td>\n",
       "      <td>57</td>\n",
       "      <td>6</td>\n",
       "      <td>7</td>\n",
       "      <td>0</td>\n",
       "      <td>-2411</td>\n",
       "      <td>4493010632</td>\n",
       "    </tr>\n",
       "    <tr>\n",
       "      <th>7</th>\n",
       "      <td>16</td>\n",
       "      <td>5</td>\n",
       "      <td>13</td>\n",
       "      <td>0</td>\n",
       "      <td>-2615</td>\n",
       "      <td>15</td>\n",
       "      <td>13</td>\n",
       "      <td>5</td>\n",
       "      <td>1</td>\n",
       "      <td>2615</td>\n",
       "      <td>4496759358</td>\n",
       "    </tr>\n",
       "    <tr>\n",
       "      <th>8</th>\n",
       "      <td>16</td>\n",
       "      <td>7</td>\n",
       "      <td>7</td>\n",
       "      <td>0</td>\n",
       "      <td>-1979</td>\n",
       "      <td>15</td>\n",
       "      <td>7</td>\n",
       "      <td>7</td>\n",
       "      <td>2</td>\n",
       "      <td>1979</td>\n",
       "      <td>4443048030</td>\n",
       "    </tr>\n",
       "    <tr>\n",
       "      <th>9</th>\n",
       "      <td>13</td>\n",
       "      <td>4</td>\n",
       "      <td>5</td>\n",
       "      <td>1</td>\n",
       "      <td>-1548</td>\n",
       "      <td>16</td>\n",
       "      <td>5</td>\n",
       "      <td>4</td>\n",
       "      <td>0</td>\n",
       "      <td>1548</td>\n",
       "      <td>4509433346</td>\n",
       "    </tr>\n",
       "  </tbody>\n",
       "</table>\n",
       "</div>"
      ],
      "text/plain": [
       "   azulSentinelas  azulAbates  azulMortes  azulMonstrosEpicos  \\\n",
       "0              28           9           6                   0   \n",
       "1              12           5           5                   0   \n",
       "2              15           7          11                   1   \n",
       "3              43           4           5                   1   \n",
       "4              75           6           6                   0   \n",
       "5              18           5           3                   1   \n",
       "6              18           7           6                   1   \n",
       "7              16           5          13                   0   \n",
       "8              16           7           7                   0   \n",
       "9              13           4           5                   1   \n",
       "\n",
       "   azulDiferencaOuros  vermelhoSentinelas  vermelhoAbates  vermelhoMortes  \\\n",
       "0                 643                  15               6               9   \n",
       "1               -2908                  12               5               5   \n",
       "2               -1172                  15              11               7   \n",
       "3               -1321                  15               5               4   \n",
       "4               -1004                  17               6               6   \n",
       "5                 698                  36               3               5   \n",
       "6                2411                  57               6               7   \n",
       "7               -2615                  15              13               5   \n",
       "8               -1979                  15               7               7   \n",
       "9               -1548                  16               5               4   \n",
       "\n",
       "   vermelhoMonstrosEpicos  vermelhoDiferencaOuros      gameId  \n",
       "0                       0                    -643  4519157822  \n",
       "1                       2                    2908  4523371949  \n",
       "2                       0                    1172  4521474530  \n",
       "3                       0                    1321  4524384067  \n",
       "4                       1                    1004  4436033771  \n",
       "5                       0                    -698  4475365709  \n",
       "6                       0                   -2411  4493010632  \n",
       "7                       1                    2615  4496759358  \n",
       "8                       2                    1979  4443048030  \n",
       "9                       0                    1548  4509433346  "
      ]
     },
     "execution_count": 17,
     "metadata": {},
     "output_type": "execute_result"
    }
   ],
   "source": [
    "df.head(10)"
   ]
  },
  {
   "cell_type": "code",
   "execution_count": 21,
   "metadata": {
    "colab": {
     "base_uri": "https://localhost:8080/"
    },
    "executionInfo": {
     "elapsed": 370,
     "status": "ok",
     "timestamp": 1635869431410,
     "user": {
      "displayName": "Leonardo Coppola Biazucci",
      "photoUrl": "https://lh3.googleusercontent.com/a-/AOh14GhxZk8gyKeqeEt0VWdB5zOE8BOQM5K_uQ27WNanZA=s64",
      "userId": "05670197193121141000"
     },
     "user_tz": 180
    },
    "id": "AsbXeaOdp3Ib",
    "outputId": "1bf12699-e7ce-4922-ba13-b4fabb5c81a7"
   },
   "outputs": [],
   "source": [
    "import scipy.stats as stats\n",
    "from statsmodels.multivariate.manova import MANOVA"
   ]
  },
  {
   "cell_type": "code",
   "execution_count": 22,
   "metadata": {
    "colab": {
     "base_uri": "https://localhost:8080/"
    },
    "executionInfo": {
     "elapsed": 281,
     "status": "ok",
     "timestamp": 1635811943558,
     "user": {
      "displayName": "Michelly Rodrigues da Silva",
      "photoUrl": "https://lh3.googleusercontent.com/a-/AOh14GgHQG68MCb7bCC1kdtxEgd9Es0QYSfqjcGN8tEULw=s64",
      "userId": "01858923490154251024"
     },
     "user_tz": 180
    },
    "id": "lsalgGcd_OOb",
    "outputId": "cab2771e-4261-40f3-a8a3-e82d364bbc7b"
   },
   "outputs": [
    {
     "name": "stdout",
     "output_type": "stream",
     "text": [
      "1.1961757324375164 0.2741007030743987\n"
     ]
    }
   ],
   "source": [
    "fvalue, pvalue = stats.f_oneway(df['azulMortes'], df['vermelhoMortes'])\n",
    "print(fvalue, pvalue)"
   ]
  },
  {
   "cell_type": "code",
   "execution_count": 23,
   "metadata": {
    "id": "a_-K0Z9o_bne"
   },
   "outputs": [],
   "source": [
    "import statsmodels.api as sm\n",
    "from statsmodels.formula.api import ols"
   ]
  },
  {
   "cell_type": "code",
   "execution_count": 25,
   "metadata": {
    "colab": {
     "base_uri": "https://localhost:8080/",
     "height": 111
    },
    "executionInfo": {
     "elapsed": 720,
     "status": "ok",
     "timestamp": 1635869445443,
     "user": {
      "displayName": "Leonardo Coppola Biazucci",
      "photoUrl": "https://lh3.googleusercontent.com/a-/AOh14GhxZk8gyKeqeEt0VWdB5zOE8BOQM5K_uQ27WNanZA=s64",
      "userId": "05670197193121141000"
     },
     "user_tz": 180
    },
    "id": "iSBHa_rp_dti",
    "outputId": "f8f9ae6f-467d-4c51-c170-d15bd73d3134"
   },
   "outputs": [
    {
     "data": {
      "text/html": [
       "<div>\n",
       "<style scoped>\n",
       "    .dataframe tbody tr th:only-of-type {\n",
       "        vertical-align: middle;\n",
       "    }\n",
       "\n",
       "    .dataframe tbody tr th {\n",
       "        vertical-align: top;\n",
       "    }\n",
       "\n",
       "    .dataframe thead th {\n",
       "        text-align: right;\n",
       "    }\n",
       "</style>\n",
       "<table border=\"1\" class=\"dataframe\">\n",
       "  <thead>\n",
       "    <tr style=\"text-align: right;\">\n",
       "      <th></th>\n",
       "      <th>sum_sq</th>\n",
       "      <th>df</th>\n",
       "      <th>F</th>\n",
       "      <th>PR(&gt;F)</th>\n",
       "    </tr>\n",
       "  </thead>\n",
       "  <tbody>\n",
       "    <tr>\n",
       "      <th>treatments</th>\n",
       "      <td>21.14070</td>\n",
       "      <td>3.00000</td>\n",
       "      <td>0.79745</td>\n",
       "      <td>0.49507</td>\n",
       "    </tr>\n",
       "    <tr>\n",
       "      <th>Residual</th>\n",
       "      <td>349159.16388</td>\n",
       "      <td>39512.00000</td>\n",
       "      <td>NaN</td>\n",
       "      <td>NaN</td>\n",
       "    </tr>\n",
       "  </tbody>\n",
       "</table>\n",
       "</div>"
      ],
      "text/plain": [
       "                 sum_sq          df       F  PR(>F)\n",
       "treatments     21.14070     3.00000 0.79745 0.49507\n",
       "Residual   349159.16388 39512.00000     NaN     NaN"
      ]
     },
     "execution_count": 25,
     "metadata": {},
     "output_type": "execute_result"
    }
   ],
   "source": [
    "df_mv = df.filter(['azulMortes','vermelhoMortes', 'azulAbates', 'vermelhoAbates'])\n",
    "df_mv = pd.melt(df_mv.reset_index(), id_vars=['index'], value_vars=['azulMortes', 'vermelhoMortes',  'azulAbates', 'vermelhoAbates'])\n",
    "df_mv.columns = ['index', 'treatments', 'value']\n",
    "model = ols('value ~ (treatments)', data=df_mv).fit()\n",
    "anova_table = sm.stats.anova_lm(model, typ=2)\n",
    "anova_table\n",
    "\n",
    "# https://www.reneshbedre.com/blog/anova.html\n"
   ]
  },
  {
   "cell_type": "code",
   "execution_count": 28,
   "metadata": {
    "colab": {
     "base_uri": "https://localhost:8080/",
     "height": 112
    },
    "executionInfo": {
     "elapsed": 333,
     "status": "ok",
     "timestamp": 1635812570831,
     "user": {
      "displayName": "Michelly Rodrigues da Silva",
      "photoUrl": "https://lh3.googleusercontent.com/a-/AOh14GgHQG68MCb7bCC1kdtxEgd9Es0QYSfqjcGN8tEULw=s64",
      "userId": "01858923490154251024"
     },
     "user_tz": 180
    },
    "id": "5oGlZJXhBux8",
    "outputId": "25516b27-ee11-4af7-c291-7d93ccc5f000"
   },
   "outputs": [
    {
     "data": {
      "text/html": [
       "<div>\n",
       "<style scoped>\n",
       "    .dataframe tbody tr th:only-of-type {\n",
       "        vertical-align: middle;\n",
       "    }\n",
       "\n",
       "    .dataframe tbody tr th {\n",
       "        vertical-align: top;\n",
       "    }\n",
       "\n",
       "    .dataframe thead th {\n",
       "        text-align: right;\n",
       "    }\n",
       "</style>\n",
       "<table border=\"1\" class=\"dataframe\">\n",
       "  <thead>\n",
       "    <tr style=\"text-align: right;\">\n",
       "      <th></th>\n",
       "      <th>df</th>\n",
       "      <th>sum_sq</th>\n",
       "      <th>mean_sq</th>\n",
       "      <th>F</th>\n",
       "      <th>PR(&gt;F)</th>\n",
       "    </tr>\n",
       "  </thead>\n",
       "  <tbody>\n",
       "    <tr>\n",
       "      <th>treatments</th>\n",
       "      <td>3.00000</td>\n",
       "      <td>21.14070</td>\n",
       "      <td>7.04690</td>\n",
       "      <td>0.79745</td>\n",
       "      <td>0.49507</td>\n",
       "    </tr>\n",
       "    <tr>\n",
       "      <th>Residual</th>\n",
       "      <td>39512.00000</td>\n",
       "      <td>349159.16388</td>\n",
       "      <td>8.83679</td>\n",
       "      <td>NaN</td>\n",
       "      <td>NaN</td>\n",
       "    </tr>\n",
       "  </tbody>\n",
       "</table>\n",
       "</div>"
      ],
      "text/plain": [
       "                    df       sum_sq  mean_sq       F  PR(>F)\n",
       "treatments     3.00000     21.14070  7.04690 0.79745 0.49507\n",
       "Residual   39512.00000 349159.16388  8.83679     NaN     NaN"
      ]
     },
     "execution_count": 28,
     "metadata": {},
     "output_type": "execute_result"
    }
   ],
   "source": [
    "from bioinfokit.analys import stat\n",
    "res = stat()\n",
    "res.anova_stat(df=df_mv, res_var='value', anova_model='value ~ (treatments)')\n",
    "res.anova_summary\n",
    "\n",
    "# https://www.reneshbedre.com/blog/anova.html"
   ]
  },
  {
   "cell_type": "markdown",
   "metadata": {
    "id": "H56XMtYxC8co"
   },
   "source": [
    "----"
   ]
  },
  {
   "cell_type": "markdown",
   "metadata": {
    "id": "zVWLnRmgU5Zz"
   },
   "source": [
    "## Interpretação dos resultados"
   ]
  },
  {
   "cell_type": "markdown",
   "metadata": {
    "id": "vo1MGzpVVBNJ"
   },
   "source": [
    "  Nessa análise, o nosso objetivo principal é o de julgar se há alguma diferença no desempenho entre os dois possíveis lados (time azul ou time vermelho) de uma partida de league of legends, informação que dependendo do resultado obtido, pode nos dar uma vantagem significativa no ambiente competitivo.\n",
    "\n",
    "  O resultado obtido após a aplicação da ANOVA foi de que nós temos um F de 0,79745 e um F crítico de 0,495068. Como nós temos um F maior do que o F crítico, podemos assumir que existe uma diferença significativa nas estatísticas entre os 2 lados analisados.\n",
    "\n",
    "  Considerando os resultados, podemos assumir que os lados azul e vermelho não são balanceados entre si, e que um time poder escolher em qual deseja jogar é uma vantagem competitiva relevante. As diferenças na ordem de escolha dos personagens e na distância dos pontos de interesse no mapa, de acordo com os cálculos, foram diferenças que afetaram significativamente o desempenho de ambos os lados, um positivamente e o outro negativamente.\n",
    "\n"
   ]
  },
  {
   "cell_type": "markdown",
   "metadata": {
    "id": "xV2cCZs9BRu1"
   },
   "source": [
    "## Conclusão\n",
    "\n",
    "  Desse modo é possível confirmar com os resultados obtidos nessa análise que de fato existe um desbalanceamento, levando em conta as variáveis analisadas, a pessoa que jogar no equipe azul não teria o mesmo resultado que uma pessoa que joga na equipe vermelha. Isso impacta no resultado das estatísticas dos abates e mortes das duas equipes, consequentemente, pode alterar o resultado de uma partida do jogo dependendo de qual equipe o jogador é colocado."
   ]
  },
  {
   "cell_type": "markdown",
   "metadata": {
    "id": "a2E7tmN7U8Yf"
   },
   "source": [
    "## Referências"
   ]
  },
  {
   "cell_type": "markdown",
   "metadata": {
    "id": "aexIoIQqVAjx"
   },
   "source": [
    "[Levene’s & Bartlett’s Test of Equality (Homogeneity) of Variance in Python](https://www.marsja.se/levenes-bartletts-test-of-equality-homogeneity-of-variance-in-python/)\n",
    "\n",
    "\n",
    "----\n",
    "[Python MANOVA Made Easy using Statsmodels](https://www.marsja.se/python-manova-made-easy-using-statsmodels/)  \n",
    "\n",
    "\n",
    "----\n",
    "[ANOVA using Python (with examples)](https://www.reneshbedre.com/blog/anova.html)\n",
    "\n",
    "----"
   ]
  }
 ],
 "metadata": {
  "colab": {
   "collapsed_sections": [],
   "name": "TD2-analise-variancia.ipynb",
   "provenance": []
  },
  "kernelspec": {
   "display_name": "Python 3 (ipykernel)",
   "language": "python",
   "name": "python3"
  },
  "language_info": {
   "codemirror_mode": {
    "name": "ipython",
    "version": 3
   },
   "file_extension": ".py",
   "mimetype": "text/x-python",
   "name": "python",
   "nbconvert_exporter": "python",
   "pygments_lexer": "ipython3",
   "version": "3.8.10"
  }
 },
 "nbformat": 4,
 "nbformat_minor": 1
}
