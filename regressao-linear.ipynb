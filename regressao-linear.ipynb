{
 "cells": [
  {
   "cell_type": "markdown",
   "metadata": {
    "id": "tHCLZLIrVW67"
   },
   "source": [
    "# Regressão Linear Múltipla"
   ]
  },
  {
   "cell_type": "markdown",
   "metadata": {
    "id": "fTKMI6RFPFyz"
   },
   "source": [
    "Objetivos:\n",
    "\n",
    "  Este documento tem como objetivo principal o estudo da relação entre as variáveis do banco de dados dos primeiros 10 minutos das partidas do jogo online conhecido mundialmente, League of Legends. Com o uso da técnica da regressão linear, é possível definir quais atributos geram mais vantagem ou desvantagem para uma das equipes. Esta análise é de profunda importância quando se está em um ambiente competitivo, pois ao saber o que lhe deixará na frente dos seus inimigos, o jogador pode guiar suas ações de acordo com o que foi encontrado na análise para ficar sempre na frente dos outros competidores.\n",
    "\n",
    "  Essas informações geram o \"meta\" do jogo. O “meta” é o padrão de ações mais eficiente e que deverá ser seguido durante a partida. Sendo assim, ao se utilizar de técnicas cada vez mais profundas de análise, o jogo passa a ficar cada vez mais complexo, e o conhecimento cada vez mais difícil de ser obtido. Desta forma, podemos dizer que a obtenção desse conhecimento é ainda mais eficaz, pois não é uma informação tão simples de ser obtida pelo jogador comum.\n",
    "\n",
    "  Neste documento, temos como foco descobrir se é possível prever o número de mortes do time azul a partir das variáveis explicativas. Como um número de mortes alto normalmente está associado ao time que está atrás, e ao realizarmos tal análise, podemos descobrir o quanto exatamente uma das equipes está prejudicada no jogo."
   ]
  },
  {
   "cell_type": "markdown",
   "metadata": {
    "id": "ukVBeDM4jh5I"
   },
   "source": [
    "Variável quantitativa de interesse: \n",
    "* blueDeaths (Mortes do time Azul)\n",
    "\n",
    "Variáveis explicativas: \n",
    "* blueWardsPlaced (Sentinelas posicionadas pelo time Azul)\n",
    "* blueKills (Abates realizados pelo time Azul)\n",
    "* blueElitblueEliteMonsters (Monstros Épicos derrotado pelo time Azul)\n",
    "* blueGoldDiff (Diferença de ouro do time Azul)\n",
    "\n"
   ]
  },
  {
   "cell_type": "code",
   "execution_count": null,
   "metadata": {
    "id": "iiqItzORsuj_"
   },
   "outputs": [],
   "source": [
    "import numpy as np\n",
    "import matplotlib.pyplot as plt\n",
    "import seaborn as sns\n",
    "\n",
    "from sklearn.linear_model import LinearRegression\n",
    "from sklearn.model_selection import train_test_split\n",
    "\n"
   ]
  },
  {
   "cell_type": "markdown",
   "metadata": {
    "id": "dv7eMyWEG_td"
   },
   "source": [
    "Filtrando as variáveis de interesse"
   ]
  },
  {
   "cell_type": "code",
   "execution_count": null,
   "metadata": {
    "id": "yuCmqQRtyr5z"
   },
   "outputs": [],
   "source": [
    "url_lol = 'https://raw.githubusercontent.com/michellyrds/mqaa/master/datasets/high_diamond_ranked_10min.csv'\n",
    "\n",
    "url = url_lol\n",
    "raw_data = pd.read_csv(url)\n",
    "\n",
    "df_raw = raw_data.filter(['blueWardsPlaced', 'blueKills', 'blueDeaths', 'blueEliteMonsters', 'blueGoldDiff'], axis=1)\n",
    "\n",
    "df = df_raw.rename(columns={'blueWardsPlaced' : 'azulSentinelas', \n",
    "                            'blueKills' : 'azulAbates',\n",
    "                            'blueDeaths' : 'azulMortes', \n",
    "                            'blueEliteMonsters' : 'azulMonstrosEpicos', \n",
    "                            'blueGoldDiff' : 'azulDiferencaOuros'})\n"
   ]
  },
  {
   "cell_type": "code",
   "execution_count": null,
   "metadata": {
    "colab": {
     "base_uri": "https://localhost:8080/",
     "height": 363
    },
    "id": "olJxwVNI-3TI",
    "outputId": "643caa8c-af83-4618-c26f-720e2484e9a0"
   },
   "outputs": [
    {
     "data": {
      "text/html": [
       "<div>\n",
       "<style scoped>\n",
       "    .dataframe tbody tr th:only-of-type {\n",
       "        vertical-align: middle;\n",
       "    }\n",
       "\n",
       "    .dataframe tbody tr th {\n",
       "        vertical-align: top;\n",
       "    }\n",
       "\n",
       "    .dataframe thead th {\n",
       "        text-align: right;\n",
       "    }\n",
       "</style>\n",
       "<table border=\"1\" class=\"dataframe\">\n",
       "  <thead>\n",
       "    <tr style=\"text-align: right;\">\n",
       "      <th></th>\n",
       "      <th>azulSentinelas</th>\n",
       "      <th>azulAbates</th>\n",
       "      <th>azulMortes</th>\n",
       "      <th>azulMonstrosEpicos</th>\n",
       "      <th>azulDiferencaOuros</th>\n",
       "    </tr>\n",
       "  </thead>\n",
       "  <tbody>\n",
       "    <tr>\n",
       "      <th>0</th>\n",
       "      <td>28</td>\n",
       "      <td>9</td>\n",
       "      <td>6</td>\n",
       "      <td>0</td>\n",
       "      <td>643</td>\n",
       "    </tr>\n",
       "    <tr>\n",
       "      <th>1</th>\n",
       "      <td>12</td>\n",
       "      <td>5</td>\n",
       "      <td>5</td>\n",
       "      <td>0</td>\n",
       "      <td>-2908</td>\n",
       "    </tr>\n",
       "    <tr>\n",
       "      <th>2</th>\n",
       "      <td>15</td>\n",
       "      <td>7</td>\n",
       "      <td>11</td>\n",
       "      <td>1</td>\n",
       "      <td>-1172</td>\n",
       "    </tr>\n",
       "    <tr>\n",
       "      <th>3</th>\n",
       "      <td>43</td>\n",
       "      <td>4</td>\n",
       "      <td>5</td>\n",
       "      <td>1</td>\n",
       "      <td>-1321</td>\n",
       "    </tr>\n",
       "    <tr>\n",
       "      <th>4</th>\n",
       "      <td>75</td>\n",
       "      <td>6</td>\n",
       "      <td>6</td>\n",
       "      <td>0</td>\n",
       "      <td>-1004</td>\n",
       "    </tr>\n",
       "    <tr>\n",
       "      <th>5</th>\n",
       "      <td>18</td>\n",
       "      <td>5</td>\n",
       "      <td>3</td>\n",
       "      <td>1</td>\n",
       "      <td>698</td>\n",
       "    </tr>\n",
       "    <tr>\n",
       "      <th>6</th>\n",
       "      <td>18</td>\n",
       "      <td>7</td>\n",
       "      <td>6</td>\n",
       "      <td>1</td>\n",
       "      <td>2411</td>\n",
       "    </tr>\n",
       "    <tr>\n",
       "      <th>7</th>\n",
       "      <td>16</td>\n",
       "      <td>5</td>\n",
       "      <td>13</td>\n",
       "      <td>0</td>\n",
       "      <td>-2615</td>\n",
       "    </tr>\n",
       "    <tr>\n",
       "      <th>8</th>\n",
       "      <td>16</td>\n",
       "      <td>7</td>\n",
       "      <td>7</td>\n",
       "      <td>0</td>\n",
       "      <td>-1979</td>\n",
       "    </tr>\n",
       "    <tr>\n",
       "      <th>9</th>\n",
       "      <td>13</td>\n",
       "      <td>4</td>\n",
       "      <td>5</td>\n",
       "      <td>1</td>\n",
       "      <td>-1548</td>\n",
       "    </tr>\n",
       "  </tbody>\n",
       "</table>\n",
       "</div>"
      ],
      "text/plain": [
       "   azulSentinelas  azulAbates  ...  azulMonstrosEpicos  azulDiferencaOuros\n",
       "0              28           9  ...                   0                 643\n",
       "1              12           5  ...                   0               -2908\n",
       "2              15           7  ...                   1               -1172\n",
       "3              43           4  ...                   1               -1321\n",
       "4              75           6  ...                   0               -1004\n",
       "5              18           5  ...                   1                 698\n",
       "6              18           7  ...                   1                2411\n",
       "7              16           5  ...                   0               -2615\n",
       "8              16           7  ...                   0               -1979\n",
       "9              13           4  ...                   1               -1548\n",
       "\n",
       "[10 rows x 5 columns]"
      ]
     },
     "execution_count": 4,
     "metadata": {},
     "output_type": "execute_result"
    }
   ],
   "source": [
    "df.head(10)"
   ]
  },
  {
   "cell_type": "markdown",
   "metadata": {
    "id": "gkTaiLg4HI4i"
   },
   "source": [
    "Separamos o dataset em dois conjuntos: Treinamento e teste.\n",
    "Depois separamos o dataset de treinamento nas váriaveis explicativas da variável aleatória de interesse (\"blueDeaths\")"
   ]
  },
  {
   "cell_type": "code",
   "execution_count": null,
   "metadata": {
    "id": "tQdAB3LsyEOU"
   },
   "outputs": [],
   "source": [
    "\n",
    "train, test = train_test_split(df, test_size=0.2)\n",
    "\n",
    "x = train.filter(['azulSentinelas', 'azulAbates', 'azulMonstrosEpicos', 'azulDiferencaOuros'])\n",
    "y = train.filter(['azulMortes'])\n",
    "\n"
   ]
  },
  {
   "cell_type": "code",
   "execution_count": null,
   "metadata": {
    "colab": {
     "base_uri": "https://localhost:8080/",
     "height": 363
    },
    "id": "R9oo0SoZDd7_",
    "outputId": "725005f2-32fd-460a-b391-d212a2463e9b"
   },
   "outputs": [
    {
     "data": {
      "text/html": [
       "<div>\n",
       "<style scoped>\n",
       "    .dataframe tbody tr th:only-of-type {\n",
       "        vertical-align: middle;\n",
       "    }\n",
       "\n",
       "    .dataframe tbody tr th {\n",
       "        vertical-align: top;\n",
       "    }\n",
       "\n",
       "    .dataframe thead th {\n",
       "        text-align: right;\n",
       "    }\n",
       "</style>\n",
       "<table border=\"1\" class=\"dataframe\">\n",
       "  <thead>\n",
       "    <tr style=\"text-align: right;\">\n",
       "      <th></th>\n",
       "      <th>azulMortes</th>\n",
       "    </tr>\n",
       "  </thead>\n",
       "  <tbody>\n",
       "    <tr>\n",
       "      <th>5941</th>\n",
       "      <td>6</td>\n",
       "    </tr>\n",
       "    <tr>\n",
       "      <th>6955</th>\n",
       "      <td>9</td>\n",
       "    </tr>\n",
       "    <tr>\n",
       "      <th>163</th>\n",
       "      <td>6</td>\n",
       "    </tr>\n",
       "    <tr>\n",
       "      <th>5416</th>\n",
       "      <td>5</td>\n",
       "    </tr>\n",
       "    <tr>\n",
       "      <th>3109</th>\n",
       "      <td>6</td>\n",
       "    </tr>\n",
       "    <tr>\n",
       "      <th>5120</th>\n",
       "      <td>6</td>\n",
       "    </tr>\n",
       "    <tr>\n",
       "      <th>140</th>\n",
       "      <td>9</td>\n",
       "    </tr>\n",
       "    <tr>\n",
       "      <th>9472</th>\n",
       "      <td>6</td>\n",
       "    </tr>\n",
       "    <tr>\n",
       "      <th>5992</th>\n",
       "      <td>8</td>\n",
       "    </tr>\n",
       "    <tr>\n",
       "      <th>3873</th>\n",
       "      <td>16</td>\n",
       "    </tr>\n",
       "  </tbody>\n",
       "</table>\n",
       "</div>"
      ],
      "text/plain": [
       "      azulMortes\n",
       "5941           6\n",
       "6955           9\n",
       "163            6\n",
       "5416           5\n",
       "3109           6\n",
       "5120           6\n",
       "140            9\n",
       "9472           6\n",
       "5992           8\n",
       "3873          16"
      ]
     },
     "execution_count": 6,
     "metadata": {},
     "output_type": "execute_result"
    }
   ],
   "source": [
    "y.head(10)"
   ]
  },
  {
   "cell_type": "markdown",
   "metadata": {
    "id": "0iCzwd39HiUl"
   },
   "source": [
    "Criamos o modelo da regressão linear múltipla"
   ]
  },
  {
   "cell_type": "code",
   "execution_count": null,
   "metadata": {
    "id": "kzNKotmczI9K"
   },
   "outputs": [],
   "source": [
    "model = LinearRegression().fit(x, y)"
   ]
  },
  {
   "cell_type": "code",
   "execution_count": null,
   "metadata": {
    "colab": {
     "base_uri": "https://localhost:8080/"
    },
    "id": "drMzGBqU3Yvf",
    "outputId": "efd9f65b-bf2b-4992-db10-92538886bb5a"
   },
   "outputs": [
    {
     "name": "stdout",
     "output_type": "stream",
     "text": [
      "[[ 0.00089959  0.7194373  -0.1069605  -0.00134058]]\n"
     ]
    }
   ],
   "source": [
    "print(model.coef_)"
   ]
  },
  {
   "cell_type": "code",
   "execution_count": null,
   "metadata": {
    "colab": {
     "base_uri": "https://localhost:8080/"
    },
    "id": "dppJxDpN5WEv",
    "outputId": "e23e1208-8b66-4a6a-ae1f-b503d1d13cd0"
   },
   "outputs": [
    {
     "name": "stdout",
     "output_type": "stream",
     "text": [
      "[1.73574819]\n"
     ]
    }
   ],
   "source": [
    "print(model.intercept_)"
   ]
  },
  {
   "cell_type": "markdown",
   "metadata": {
    "id": "LMJ8Yi7Y7Q24"
   },
   "source": [
    "#### Testando o modelo"
   ]
  },
  {
   "cell_type": "markdown",
   "metadata": {
    "id": "e00quGIF9UzQ"
   },
   "source": [
    "Dando 4 váriaveis ('blueWardsPlaced', 'blueKills', 'blueEliteMonsters' e 'blueGoldDiff') para estimar o número de mortes do time azul: "
   ]
  },
  {
   "cell_type": "markdown",
   "metadata": {
    "id": "Y5s-FAFIHnDP"
   },
   "source": [
    "Alguns testes com as 2 amostras do dataframe"
   ]
  },
  {
   "cell_type": "code",
   "execution_count": null,
   "metadata": {
    "colab": {
     "base_uri": "https://localhost:8080/"
    },
    "id": "oTJqXmAj7Y5V",
    "outputId": "f36370f8-6c6e-42f2-8448-aa5da6f492a5"
   },
   "outputs": [
    {
     "name": "stdout",
     "output_type": "stream",
     "text": [
      "Valor real: 6 \n",
      "Valor predito pelo modelo: [[7.38580455]]\n"
     ]
    }
   ],
   "source": [
    "x_to_pred = pd.DataFrame([28, 9, 0, 643]).T\n",
    "\n",
    "Y = 6\n",
    "y_pred = model.predict(x_to_pred)\n",
    "\n",
    "print(\"Valor real: {} \\nValor predito pelo modelo: {}\".format(Y,y_pred))"
   ]
  },
  {
   "cell_type": "code",
   "execution_count": null,
   "metadata": {
    "colab": {
     "base_uri": "https://localhost:8080/"
    },
    "id": "0AWcH3_R-onX",
    "outputId": "e8a8a841-1b56-43d2-d18f-96b9cb76a300"
   },
   "outputs": [
    {
     "name": "stdout",
     "output_type": "stream",
     "text": [
      "Valor real: 13 \n",
      "Valor predito pelo modelo: [[8.83376817]]\n"
     ]
    }
   ],
   "source": [
    "x_to_pred_2 = pd.DataFrame([16, 5,0 ,-2615]).T\n",
    "\n",
    "Y = 13\n",
    "y_pred = model.predict(x_to_pred_2)\n",
    "\n",
    "print(\"Valor real: {} \\nValor predito pelo modelo: {}\".format(Y,y_pred))"
   ]
  },
  {
   "cell_type": "markdown",
   "metadata": {
    "id": "Z093-7toHv82"
   },
   "source": [
    "Criamos o array de predição do conjunto de testes e depois comparamos com o array da variavél aleatória de interesse, identificando que de fato possuem certa similaridade."
   ]
  },
  {
   "cell_type": "code",
   "execution_count": null,
   "metadata": {
    "colab": {
     "base_uri": "https://localhost:8080/",
     "height": 363
    },
    "id": "7J79WSoNEf11",
    "outputId": "aedc4d89-aa68-49ed-9345-b670730978d8"
   },
   "outputs": [
    {
     "data": {
      "text/html": [
       "<div>\n",
       "<style scoped>\n",
       "    .dataframe tbody tr th:only-of-type {\n",
       "        vertical-align: middle;\n",
       "    }\n",
       "\n",
       "    .dataframe tbody tr th {\n",
       "        vertical-align: top;\n",
       "    }\n",
       "\n",
       "    .dataframe thead th {\n",
       "        text-align: right;\n",
       "    }\n",
       "</style>\n",
       "<table border=\"1\" class=\"dataframe\">\n",
       "  <thead>\n",
       "    <tr style=\"text-align: right;\">\n",
       "      <th></th>\n",
       "      <th>0</th>\n",
       "    </tr>\n",
       "  </thead>\n",
       "  <tbody>\n",
       "    <tr>\n",
       "      <th>0</th>\n",
       "      <td>6.717345</td>\n",
       "    </tr>\n",
       "    <tr>\n",
       "      <th>1</th>\n",
       "      <td>7.275415</td>\n",
       "    </tr>\n",
       "    <tr>\n",
       "      <th>2</th>\n",
       "      <td>5.710397</td>\n",
       "    </tr>\n",
       "    <tr>\n",
       "      <th>3</th>\n",
       "      <td>7.681482</td>\n",
       "    </tr>\n",
       "    <tr>\n",
       "      <th>4</th>\n",
       "      <td>5.600924</td>\n",
       "    </tr>\n",
       "    <tr>\n",
       "      <th>5</th>\n",
       "      <td>8.160535</td>\n",
       "    </tr>\n",
       "    <tr>\n",
       "      <th>6</th>\n",
       "      <td>5.942945</td>\n",
       "    </tr>\n",
       "    <tr>\n",
       "      <th>7</th>\n",
       "      <td>5.322840</td>\n",
       "    </tr>\n",
       "    <tr>\n",
       "      <th>8</th>\n",
       "      <td>4.321310</td>\n",
       "    </tr>\n",
       "    <tr>\n",
       "      <th>9</th>\n",
       "      <td>9.178826</td>\n",
       "    </tr>\n",
       "  </tbody>\n",
       "</table>\n",
       "</div>"
      ],
      "text/plain": [
       "          0\n",
       "0  6.717345\n",
       "1  7.275415\n",
       "2  5.710397\n",
       "3  7.681482\n",
       "4  5.600924\n",
       "5  8.160535\n",
       "6  5.942945\n",
       "7  5.322840\n",
       "8  4.321310\n",
       "9  9.178826"
      ]
     },
     "execution_count": 10,
     "metadata": {},
     "output_type": "execute_result"
    }
   ],
   "source": [
    "x_test = test.filter(['azulSentinelas', 'azulAbates', 'azulMonstrosEpicos', 'azulDiferencaOuros'])\n",
    "y_test = test.filter(['azulMortes'])\n",
    "\n",
    "y_test_pred = pd.DataFrame(model.predict(x_test))\n",
    "\n",
    "y_test_pred.head(10)\n"
   ]
  },
  {
   "cell_type": "code",
   "execution_count": null,
   "metadata": {
    "colab": {
     "base_uri": "https://localhost:8080/",
     "height": 363
    },
    "id": "9zyBNwpqGq9h",
    "outputId": "06b84941-39e7-4597-ae34-13618880e4be"
   },
   "outputs": [
    {
     "data": {
      "text/html": [
       "<div>\n",
       "<style scoped>\n",
       "    .dataframe tbody tr th:only-of-type {\n",
       "        vertical-align: middle;\n",
       "    }\n",
       "\n",
       "    .dataframe tbody tr th {\n",
       "        vertical-align: top;\n",
       "    }\n",
       "\n",
       "    .dataframe thead th {\n",
       "        text-align: right;\n",
       "    }\n",
       "</style>\n",
       "<table border=\"1\" class=\"dataframe\">\n",
       "  <thead>\n",
       "    <tr style=\"text-align: right;\">\n",
       "      <th></th>\n",
       "      <th>azulMortes</th>\n",
       "    </tr>\n",
       "  </thead>\n",
       "  <tbody>\n",
       "    <tr>\n",
       "      <th>7068</th>\n",
       "      <td>6</td>\n",
       "    </tr>\n",
       "    <tr>\n",
       "      <th>3786</th>\n",
       "      <td>5</td>\n",
       "    </tr>\n",
       "    <tr>\n",
       "      <th>26</th>\n",
       "      <td>6</td>\n",
       "    </tr>\n",
       "    <tr>\n",
       "      <th>367</th>\n",
       "      <td>8</td>\n",
       "    </tr>\n",
       "    <tr>\n",
       "      <th>7297</th>\n",
       "      <td>4</td>\n",
       "    </tr>\n",
       "    <tr>\n",
       "      <th>707</th>\n",
       "      <td>9</td>\n",
       "    </tr>\n",
       "    <tr>\n",
       "      <th>282</th>\n",
       "      <td>5</td>\n",
       "    </tr>\n",
       "    <tr>\n",
       "      <th>176</th>\n",
       "      <td>5</td>\n",
       "    </tr>\n",
       "    <tr>\n",
       "      <th>260</th>\n",
       "      <td>5</td>\n",
       "    </tr>\n",
       "    <tr>\n",
       "      <th>7224</th>\n",
       "      <td>9</td>\n",
       "    </tr>\n",
       "  </tbody>\n",
       "</table>\n",
       "</div>"
      ],
      "text/plain": [
       "      azulMortes\n",
       "7068           6\n",
       "3786           5\n",
       "26             6\n",
       "367            8\n",
       "7297           4\n",
       "707            9\n",
       "282            5\n",
       "176            5\n",
       "260            5\n",
       "7224           9"
      ]
     },
     "execution_count": 11,
     "metadata": {},
     "output_type": "execute_result"
    }
   ],
   "source": [
    "y_test.head(10)"
   ]
  },
  {
   "cell_type": "markdown",
   "metadata": {
    "id": "8KueWmgxw9eP"
   },
   "source": [
    "## Qualidade do ajustamento\n",
    "\n"
   ]
  },
  {
   "cell_type": "markdown",
   "metadata": {
    "id": "Hgp3Utb67HvU"
   },
   "source": [
    "### Coeficiente de determinação"
   ]
  },
  {
   "cell_type": "code",
   "execution_count": null,
   "metadata": {
    "colab": {
     "base_uri": "https://localhost:8080/"
    },
    "id": "leAgNYoKzwZZ",
    "outputId": "fa34b998-126b-480c-8bc9-60d30c2bf92d"
   },
   "outputs": [
    {
     "name": "stdout",
     "output_type": "stream",
     "text": [
      "Coeficiente de determinação: 0.721408989147467\n"
     ]
    }
   ],
   "source": [
    "r_sq = model.score(x, y)\n",
    "print(\"Coeficiente de determinação: {}\".format(r_sq))"
   ]
  },
  {
   "cell_type": "markdown",
   "metadata": {
    "id": "5UDFSSspskaF"
   },
   "source": [
    "### Análise de correlação\n"
   ]
  },
  {
   "cell_type": "code",
   "execution_count": null,
   "metadata": {
    "colab": {
     "base_uri": "https://localhost:8080/"
    },
    "id": "k3W9mSV2w8eM",
    "outputId": "d0f92e6c-44ff-4795-8e69-9e733cee4eb1"
   },
   "outputs": [
    {
     "name": "stdout",
     "output_type": "stream",
     "text": [
      "Coeficiente de correlação: \n",
      "[[ 1.         -0.98225498 -0.97687203 ...  0.98432402 -0.98198531\n",
      "  -0.98265932]\n",
      " [-0.98225498  1.          0.99964011 ... -0.99993512  0.99999804\n",
      "   0.99999755]\n",
      " [-0.97687203  0.99964011  1.         ... -0.99927078  0.99967546\n",
      "   0.99957919]\n",
      " ...\n",
      " [ 0.98432402 -0.99993512 -0.99927078 ...  1.         -0.99991601\n",
      "  -0.99995703]\n",
      " [-0.98198531  0.99999804  0.99967546 ... -0.99991601  1.\n",
      "   0.99999311]\n",
      " [-0.98265932  0.99999755  0.99957919 ... -0.99995703  0.99999311\n",
      "   1.        ]]\n"
     ]
    }
   ],
   "source": [
    "correlation_coefficient = np.corrcoef(x)\n",
    "print(\"Coeficiente de correlação: \\n{}\".format(correlation_coefficient))"
   ]
  },
  {
   "cell_type": "markdown",
   "metadata": {
    "id": "tAXSxya06ACM"
   },
   "source": [
    "Calculando os coeficientes de correlação múltiplo:"
   ]
  },
  {
   "cell_type": "code",
   "execution_count": null,
   "metadata": {
    "colab": {
     "base_uri": "https://localhost:8080/",
     "height": 147
    },
    "id": "XMgiln8x5IGB",
    "outputId": "0becaad9-260e-47d2-b185-23b27a7350e1"
   },
   "outputs": [
    {
     "data": {
      "text/html": [
       "<style  type=\"text/css\" >\n",
       "#T_e0b05f66_255e_11ec_9bc6_0242ac1c0002row0_col0,#T_e0b05f66_255e_11ec_9bc6_0242ac1c0002row1_col1,#T_e0b05f66_255e_11ec_9bc6_0242ac1c0002row2_col2,#T_e0b05f66_255e_11ec_9bc6_0242ac1c0002row3_col3,#T_e0b05f66_255e_11ec_9bc6_0242ac1c0002row4_col4{\n",
       "            background-color:  #b40426;\n",
       "            color:  #f1f1f1;\n",
       "        }#T_e0b05f66_255e_11ec_9bc6_0242ac1c0002row0_col1{\n",
       "            background-color:  #3e51c5;\n",
       "            color:  #f1f1f1;\n",
       "        }#T_e0b05f66_255e_11ec_9bc6_0242ac1c0002row0_col2{\n",
       "            background-color:  #bcd2f7;\n",
       "            color:  #000000;\n",
       "        }#T_e0b05f66_255e_11ec_9bc6_0242ac1c0002row0_col3{\n",
       "            background-color:  #7699f6;\n",
       "            color:  #000000;\n",
       "        }#T_e0b05f66_255e_11ec_9bc6_0242ac1c0002row0_col4{\n",
       "            background-color:  #c0d4f5;\n",
       "            color:  #000000;\n",
       "        }#T_e0b05f66_255e_11ec_9bc6_0242ac1c0002row1_col0,#T_e0b05f66_255e_11ec_9bc6_0242ac1c0002row3_col0{\n",
       "            background-color:  #4055c8;\n",
       "            color:  #f1f1f1;\n",
       "        }#T_e0b05f66_255e_11ec_9bc6_0242ac1c0002row1_col2{\n",
       "            background-color:  #bed2f6;\n",
       "            color:  #000000;\n",
       "        }#T_e0b05f66_255e_11ec_9bc6_0242ac1c0002row1_col3{\n",
       "            background-color:  #a5c3fe;\n",
       "            color:  #000000;\n",
       "        }#T_e0b05f66_255e_11ec_9bc6_0242ac1c0002row1_col4{\n",
       "            background-color:  #ef886b;\n",
       "            color:  #000000;\n",
       "        }#T_e0b05f66_255e_11ec_9bc6_0242ac1c0002row2_col0,#T_e0b05f66_255e_11ec_9bc6_0242ac1c0002row2_col1,#T_e0b05f66_255e_11ec_9bc6_0242ac1c0002row2_col3,#T_e0b05f66_255e_11ec_9bc6_0242ac1c0002row2_col4,#T_e0b05f66_255e_11ec_9bc6_0242ac1c0002row4_col2{\n",
       "            background-color:  #3b4cc0;\n",
       "            color:  #f1f1f1;\n",
       "        }#T_e0b05f66_255e_11ec_9bc6_0242ac1c0002row3_col1{\n",
       "            background-color:  #7295f4;\n",
       "            color:  #000000;\n",
       "        }#T_e0b05f66_255e_11ec_9bc6_0242ac1c0002row3_col2{\n",
       "            background-color:  #92b4fe;\n",
       "            color:  #000000;\n",
       "        }#T_e0b05f66_255e_11ec_9bc6_0242ac1c0002row3_col4{\n",
       "            background-color:  #ebd3c6;\n",
       "            color:  #000000;\n",
       "        }#T_e0b05f66_255e_11ec_9bc6_0242ac1c0002row4_col0{\n",
       "            background-color:  #3f53c6;\n",
       "            color:  #f1f1f1;\n",
       "        }#T_e0b05f66_255e_11ec_9bc6_0242ac1c0002row4_col1{\n",
       "            background-color:  #f7bca1;\n",
       "            color:  #000000;\n",
       "        }#T_e0b05f66_255e_11ec_9bc6_0242ac1c0002row4_col3{\n",
       "            background-color:  #c1d4f4;\n",
       "            color:  #000000;\n",
       "        }</style><table id=\"T_e0b05f66_255e_11ec_9bc6_0242ac1c0002\" ><thead>    <tr>        <th class=\"blank level0\" ></th>        <th class=\"col_heading level0 col0\" >azulSentinelas</th>        <th class=\"col_heading level0 col1\" >azulAbates</th>        <th class=\"col_heading level0 col2\" >azulMortes</th>        <th class=\"col_heading level0 col3\" >azulMonstrosEpicos</th>        <th class=\"col_heading level0 col4\" >azulDiferencaOuros</th>    </tr></thead><tbody>\n",
       "                <tr>\n",
       "                        <th id=\"T_e0b05f66_255e_11ec_9bc6_0242ac1c0002level0_row0\" class=\"row_heading level0 row0\" >azulSentinelas</th>\n",
       "                        <td id=\"T_e0b05f66_255e_11ec_9bc6_0242ac1c0002row0_col0\" class=\"data row0 col0\" >1.000000</td>\n",
       "                        <td id=\"T_e0b05f66_255e_11ec_9bc6_0242ac1c0002row0_col1\" class=\"data row0 col1\" >0.018138</td>\n",
       "                        <td id=\"T_e0b05f66_255e_11ec_9bc6_0242ac1c0002row0_col2\" class=\"data row0 col2\" >-0.002612</td>\n",
       "                        <td id=\"T_e0b05f66_255e_11ec_9bc6_0242ac1c0002row0_col3\" class=\"data row0 col3\" >0.019892</td>\n",
       "                        <td id=\"T_e0b05f66_255e_11ec_9bc6_0242ac1c0002row0_col4\" class=\"data row0 col4\" >0.015800</td>\n",
       "            </tr>\n",
       "            <tr>\n",
       "                        <th id=\"T_e0b05f66_255e_11ec_9bc6_0242ac1c0002level0_row1\" class=\"row_heading level0 row1\" >azulAbates</th>\n",
       "                        <td id=\"T_e0b05f66_255e_11ec_9bc6_0242ac1c0002row1_col0\" class=\"data row1 col0\" >0.018138</td>\n",
       "                        <td id=\"T_e0b05f66_255e_11ec_9bc6_0242ac1c0002row1_col1\" class=\"data row1 col1\" >1.000000</td>\n",
       "                        <td id=\"T_e0b05f66_255e_11ec_9bc6_0242ac1c0002row1_col2\" class=\"data row1 col2\" >0.004044</td>\n",
       "                        <td id=\"T_e0b05f66_255e_11ec_9bc6_0242ac1c0002row1_col3\" class=\"data row1 col3\" >0.178540</td>\n",
       "                        <td id=\"T_e0b05f66_255e_11ec_9bc6_0242ac1c0002row1_col4\" class=\"data row1 col4\" >0.654148</td>\n",
       "            </tr>\n",
       "            <tr>\n",
       "                        <th id=\"T_e0b05f66_255e_11ec_9bc6_0242ac1c0002level0_row2\" class=\"row_heading level0 row2\" >azulMortes</th>\n",
       "                        <td id=\"T_e0b05f66_255e_11ec_9bc6_0242ac1c0002row2_col0\" class=\"data row2 col0\" >-0.002612</td>\n",
       "                        <td id=\"T_e0b05f66_255e_11ec_9bc6_0242ac1c0002row2_col1\" class=\"data row2 col1\" >0.004044</td>\n",
       "                        <td id=\"T_e0b05f66_255e_11ec_9bc6_0242ac1c0002row2_col2\" class=\"data row2 col2\" >1.000000</td>\n",
       "                        <td id=\"T_e0b05f66_255e_11ec_9bc6_0242ac1c0002row2_col3\" class=\"data row2 col3\" >-0.204764</td>\n",
       "                        <td id=\"T_e0b05f66_255e_11ec_9bc6_0242ac1c0002row2_col4\" class=\"data row2 col4\" >-0.640000</td>\n",
       "            </tr>\n",
       "            <tr>\n",
       "                        <th id=\"T_e0b05f66_255e_11ec_9bc6_0242ac1c0002level0_row3\" class=\"row_heading level0 row3\" >azulMonstrosEpicos</th>\n",
       "                        <td id=\"T_e0b05f66_255e_11ec_9bc6_0242ac1c0002row3_col0\" class=\"data row3 col0\" >0.019892</td>\n",
       "                        <td id=\"T_e0b05f66_255e_11ec_9bc6_0242ac1c0002row3_col1\" class=\"data row3 col1\" >0.178540</td>\n",
       "                        <td id=\"T_e0b05f66_255e_11ec_9bc6_0242ac1c0002row3_col2\" class=\"data row3 col2\" >-0.204764</td>\n",
       "                        <td id=\"T_e0b05f66_255e_11ec_9bc6_0242ac1c0002row3_col3\" class=\"data row3 col3\" >1.000000</td>\n",
       "                        <td id=\"T_e0b05f66_255e_11ec_9bc6_0242ac1c0002row3_col4\" class=\"data row3 col4\" >0.281464</td>\n",
       "            </tr>\n",
       "            <tr>\n",
       "                        <th id=\"T_e0b05f66_255e_11ec_9bc6_0242ac1c0002level0_row4\" class=\"row_heading level0 row4\" >azulDiferencaOuros</th>\n",
       "                        <td id=\"T_e0b05f66_255e_11ec_9bc6_0242ac1c0002row4_col0\" class=\"data row4 col0\" >0.015800</td>\n",
       "                        <td id=\"T_e0b05f66_255e_11ec_9bc6_0242ac1c0002row4_col1\" class=\"data row4 col1\" >0.654148</td>\n",
       "                        <td id=\"T_e0b05f66_255e_11ec_9bc6_0242ac1c0002row4_col2\" class=\"data row4 col2\" >-0.640000</td>\n",
       "                        <td id=\"T_e0b05f66_255e_11ec_9bc6_0242ac1c0002row4_col3\" class=\"data row4 col3\" >0.281464</td>\n",
       "                        <td id=\"T_e0b05f66_255e_11ec_9bc6_0242ac1c0002row4_col4\" class=\"data row4 col4\" >1.000000</td>\n",
       "            </tr>\n",
       "    </tbody></table>"
      ],
      "text/plain": [
       "<pandas.io.formats.style.Styler at 0x7f6df24b6e10>"
      ]
     },
     "execution_count": 19,
     "metadata": {},
     "output_type": "execute_result"
    }
   ],
   "source": [
    "corr = df.corr()\n",
    "corr.style.background_gradient(cmap='coolwarm')"
   ]
  },
  {
   "cell_type": "markdown",
   "metadata": {
    "id": "Egf8Fiaa6Fvg"
   },
   "source": [
    "Outra forma de visualizar os coeficientes de correlação:"
   ]
  },
  {
   "cell_type": "code",
   "execution_count": null,
   "metadata": {
    "colab": {
     "base_uri": "https://localhost:8080/",
     "height": 374
    },
    "id": "ERstYVdn5MsD",
    "outputId": "ad114777-4da0-4cf2-8593-731028aa576f"
   },
   "outputs": [
    {
     "data": {
      "text/plain": [
       "<matplotlib.axes._subplots.AxesSubplot at 0x7f6df226d1d0>"
      ]
     },
     "execution_count": 20,
     "metadata": {},
     "output_type": "execute_result"
    },
    {
     "data": {
      "image/png": "[encoded data removed]",
      "text/plain": [
       "<Figure size 432x288 with 2 Axes>"
      ]
     },
     "metadata": {
      "needs_background": "light"
     },
     "output_type": "display_data"
    }
   ],
   "source": [
    "corr = df.corr()\n",
    "sns.heatmap(corr, \n",
    "            xticklabels=corr.columns.values,\n",
    "            yticklabels=corr.columns.values)"
   ]
  },
  {
   "cell_type": "markdown",
   "metadata": {},
   "source": [
    "## Análise dos resíduos"
   ]
  },
  {
   "cell_type": "markdown",
   "metadata": {},
   "source": [
    "TO DO"
   ]
  },
  {
   "cell_type": "markdown",
   "metadata": {
    "id": "yM2wwlqXsHok"
   },
   "source": [
    "## Interpretação dos Resultados\n",
    "\n",
    "É possível observar alguns pontos nos resultados obtidos pela regressão linear múltipla. Com a definição da variável quantativa de interesse e as variáveis explicativas, pela execução de modelo de regressão linear nas duas amostras do dataframe utilizando as 4 variáveis ('blueWardsPlaced', 'blueKills', 'blueEliteMonsters' e 'blueGoldDiff') para prever o numero de mortes do time azul foi possível verificar que em um dos testes o resultado foi próximo do real (valor real 6, enquanto que o valor predito pelo modelo foi próximo a 7.3842). No segundo teste o valor predito teve uma distância maior, sendo o valor real 13 tendo o valor obtido próxima a 8,853. Porém, quando observamos uma amostra maior do conjunto de predições ao lado do conjunto de teste, pode-se verificar a proximidade entre os resultados preditos pelo modelo e o conjunto de testes.\n",
    "\n",
    "Um forte indicador de que nosso modelo é um bom modelo é o coeficiente de determinação, que para o nosso modelo de regressão possui um valor de aproximadamente 0,72387.\n",
    "\n",
    "Outro ponto interessante que também podemos verificar é a matriz dos coeficientes de correlação que temos uma maior clareza de quais variáveis exlpicativas que possuem uma correlação maior com a variável quantitativa de interesse (blueDeaths) são a blueGoldDiff (-0,204764) e a blueEliteMonsters (-0,64)."
   ]
  },
  {
   "cell_type": "markdown",
   "metadata": {
    "id": "kRiSylPQeJVt"
   },
   "source": [
    "**Conclusão:**\n",
    "\n",
    "Como apresentado na interpretação dos resultados, nós conseguimos identificar qual dos fatores escolhidos é o que mais está relacionado à quantidade de mortes da equipe azul, que nesse caso, foi o ‘azulDiferencaOuros’. Também foi possível observar o impacto das outras variáveis, que não se demonstraram tão expressivas, com a exceção da ‘azulAbates’, que também demonstrou um grande impacto.\n",
    "\n",
    "Desta forma, o objetivo proposto no documento foi cumprido, e esta análise pôde ser aplicada dentro de jogo. Pelos resultados, obter uma vantagem de golds (ouros, em inglês) e procurar abater outros jogadores, devem ser o foco dos jogadores nos 10 primeiros minutos de partida, visto que esses dois pontos apontados são os que mais impactaram no número de mortes."
   ]
  },
  {
   "cell_type": "markdown",
   "metadata": {
    "id": "mIOOEHyO3QVY"
   },
   "source": [
    "## Referências\n",
    "\n",
    "https://realpython.com/linear-regression-in-python/#multiple-linear-regression\n",
    "\n",
    "https://stackabuse.com/calculating-pearson-correlation-coefficient-in-python-with-numpy/\n",
    "\n",
    "https://www.sfu.ca/~mjbrydon/tutorials/BAinPy/08_correlation.html\n",
    "\n",
    "https://stackoverflow.com/questions/24147278/how-do-i-create-test-and-train-samples-from-one-dataframe-with-pandas\n",
    "\n",
    "\n"
   ]
  }
 ],
 "metadata": {
  "colab": {
   "collapsed_sections": [],
   "name": "MQAA2021.ipynb",
   "provenance": []
  },
  "kernelspec": {
   "display_name": "Python 3 (ipykernel)",
   "language": "python",
   "name": "python3"
  },
  "language_info": {
   "codemirror_mode": {
    "name": "ipython",
    "version": 3
   },
   "file_extension": ".py",
   "mimetype": "text/x-python",
   "name": "python",
   "nbconvert_exporter": "python",
   "pygments_lexer": "ipython3",
   "version": "3.8.10"
  }
 },
 "nbformat": 4,
 "nbformat_minor": 1
}
