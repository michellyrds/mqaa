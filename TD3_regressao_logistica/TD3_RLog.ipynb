{
 "cells": [
  {
   "cell_type": "code",
   "execution_count": 1,
   "metadata": {
    "colab": {
     "base_uri": "https://localhost:8080/"
    },
    "executionInfo": {
     "elapsed": 1042,
     "status": "ok",
     "timestamp": 1637886255265,
     "user": {
      "displayName": "Michelly Rodrigues da Silva",
      "photoUrl": "https://lh3.googleusercontent.com/a-/AOh14GgHQG68MCb7bCC1kdtxEgd9Es0QYSfqjcGN8tEULw=s64",
      "userId": "01858923490154251024"
     },
     "user_tz": 180
    },
    "id": "L0GoC6vF0Y3Y",
    "outputId": "beac2b94-a9bb-41c0-cdcd-8dbac0a0e17b"
   },
   "outputs": [],
   "source": [
    "import pandas as pd\n",
    "import numpy as np\n",
    "import matplotlib.pyplot as plt\n",
    "import scipy.stats as st\n",
    "import pylab\n",
    "import statsmodels.api as sm\n",
    "import statsmodels.stats as smt"
   ]
  },
  {
   "cell_type": "code",
   "execution_count": 2,
   "metadata": {
    "colab": {
     "base_uri": "https://localhost:8080/",
     "height": 383
    },
    "executionInfo": {
     "elapsed": 554,
     "status": "ok",
     "timestamp": 1637886257310,
     "user": {
      "displayName": "Michelly Rodrigues da Silva",
      "photoUrl": "https://lh3.googleusercontent.com/a-/AOh14GgHQG68MCb7bCC1kdtxEgd9Es0QYSfqjcGN8tEULw=s64",
      "userId": "01858923490154251024"
     },
     "user_tz": 180
    },
    "id": "yuCmqQRtyr5z",
    "outputId": "cf87462a-c14f-4d4d-e2ee-328ff1f50893"
   },
   "outputs": [
    {
     "data": {
      "text/html": [
       "<div>\n",
       "<style scoped>\n",
       "    .dataframe tbody tr th:only-of-type {\n",
       "        vertical-align: middle;\n",
       "    }\n",
       "\n",
       "    .dataframe tbody tr th {\n",
       "        vertical-align: top;\n",
       "    }\n",
       "\n",
       "    .dataframe thead th {\n",
       "        text-align: right;\n",
       "    }\n",
       "</style>\n",
       "<table border=\"1\" class=\"dataframe\">\n",
       "  <thead>\n",
       "    <tr style=\"text-align: right;\">\n",
       "      <th></th>\n",
       "      <th>gameId</th>\n",
       "      <th>blueWins</th>\n",
       "      <th>blueWardsPlaced</th>\n",
       "      <th>blueWardsDestroyed</th>\n",
       "      <th>blueFirstBlood</th>\n",
       "      <th>blueKills</th>\n",
       "      <th>blueDeaths</th>\n",
       "      <th>blueAssists</th>\n",
       "      <th>blueEliteMonsters</th>\n",
       "      <th>blueDragons</th>\n",
       "      <th>...</th>\n",
       "      <th>redTowersDestroyed</th>\n",
       "      <th>redTotalGold</th>\n",
       "      <th>redAvgLevel</th>\n",
       "      <th>redTotalExperience</th>\n",
       "      <th>redTotalMinionsKilled</th>\n",
       "      <th>redTotalJungleMinionsKilled</th>\n",
       "      <th>redGoldDiff</th>\n",
       "      <th>redExperienceDiff</th>\n",
       "      <th>redCSPerMin</th>\n",
       "      <th>redGoldPerMin</th>\n",
       "    </tr>\n",
       "  </thead>\n",
       "  <tbody>\n",
       "    <tr>\n",
       "      <th>0</th>\n",
       "      <td>4519157822</td>\n",
       "      <td>0</td>\n",
       "      <td>28</td>\n",
       "      <td>2</td>\n",
       "      <td>1</td>\n",
       "      <td>9</td>\n",
       "      <td>6</td>\n",
       "      <td>11</td>\n",
       "      <td>0</td>\n",
       "      <td>0</td>\n",
       "      <td>...</td>\n",
       "      <td>0</td>\n",
       "      <td>16567</td>\n",
       "      <td>6.8</td>\n",
       "      <td>17047</td>\n",
       "      <td>197</td>\n",
       "      <td>55</td>\n",
       "      <td>-643</td>\n",
       "      <td>8</td>\n",
       "      <td>19.7</td>\n",
       "      <td>1656.7</td>\n",
       "    </tr>\n",
       "    <tr>\n",
       "      <th>1</th>\n",
       "      <td>4523371949</td>\n",
       "      <td>0</td>\n",
       "      <td>12</td>\n",
       "      <td>1</td>\n",
       "      <td>0</td>\n",
       "      <td>5</td>\n",
       "      <td>5</td>\n",
       "      <td>5</td>\n",
       "      <td>0</td>\n",
       "      <td>0</td>\n",
       "      <td>...</td>\n",
       "      <td>1</td>\n",
       "      <td>17620</td>\n",
       "      <td>6.8</td>\n",
       "      <td>17438</td>\n",
       "      <td>240</td>\n",
       "      <td>52</td>\n",
       "      <td>2908</td>\n",
       "      <td>1173</td>\n",
       "      <td>24.0</td>\n",
       "      <td>1762.0</td>\n",
       "    </tr>\n",
       "    <tr>\n",
       "      <th>2</th>\n",
       "      <td>4521474530</td>\n",
       "      <td>0</td>\n",
       "      <td>15</td>\n",
       "      <td>0</td>\n",
       "      <td>0</td>\n",
       "      <td>7</td>\n",
       "      <td>11</td>\n",
       "      <td>4</td>\n",
       "      <td>1</td>\n",
       "      <td>1</td>\n",
       "      <td>...</td>\n",
       "      <td>0</td>\n",
       "      <td>17285</td>\n",
       "      <td>6.8</td>\n",
       "      <td>17254</td>\n",
       "      <td>203</td>\n",
       "      <td>28</td>\n",
       "      <td>1172</td>\n",
       "      <td>1033</td>\n",
       "      <td>20.3</td>\n",
       "      <td>1728.5</td>\n",
       "    </tr>\n",
       "    <tr>\n",
       "      <th>3</th>\n",
       "      <td>4524384067</td>\n",
       "      <td>0</td>\n",
       "      <td>43</td>\n",
       "      <td>1</td>\n",
       "      <td>0</td>\n",
       "      <td>4</td>\n",
       "      <td>5</td>\n",
       "      <td>5</td>\n",
       "      <td>1</td>\n",
       "      <td>0</td>\n",
       "      <td>...</td>\n",
       "      <td>0</td>\n",
       "      <td>16478</td>\n",
       "      <td>7.0</td>\n",
       "      <td>17961</td>\n",
       "      <td>235</td>\n",
       "      <td>47</td>\n",
       "      <td>1321</td>\n",
       "      <td>7</td>\n",
       "      <td>23.5</td>\n",
       "      <td>1647.8</td>\n",
       "    </tr>\n",
       "    <tr>\n",
       "      <th>4</th>\n",
       "      <td>4436033771</td>\n",
       "      <td>0</td>\n",
       "      <td>75</td>\n",
       "      <td>4</td>\n",
       "      <td>0</td>\n",
       "      <td>6</td>\n",
       "      <td>6</td>\n",
       "      <td>6</td>\n",
       "      <td>0</td>\n",
       "      <td>0</td>\n",
       "      <td>...</td>\n",
       "      <td>0</td>\n",
       "      <td>17404</td>\n",
       "      <td>7.0</td>\n",
       "      <td>18313</td>\n",
       "      <td>225</td>\n",
       "      <td>67</td>\n",
       "      <td>1004</td>\n",
       "      <td>-230</td>\n",
       "      <td>22.5</td>\n",
       "      <td>1740.4</td>\n",
       "    </tr>\n",
       "    <tr>\n",
       "      <th>5</th>\n",
       "      <td>4475365709</td>\n",
       "      <td>1</td>\n",
       "      <td>18</td>\n",
       "      <td>0</td>\n",
       "      <td>0</td>\n",
       "      <td>5</td>\n",
       "      <td>3</td>\n",
       "      <td>6</td>\n",
       "      <td>1</td>\n",
       "      <td>1</td>\n",
       "      <td>...</td>\n",
       "      <td>0</td>\n",
       "      <td>15201</td>\n",
       "      <td>7.0</td>\n",
       "      <td>18060</td>\n",
       "      <td>221</td>\n",
       "      <td>59</td>\n",
       "      <td>-698</td>\n",
       "      <td>-101</td>\n",
       "      <td>22.1</td>\n",
       "      <td>1520.1</td>\n",
       "    </tr>\n",
       "    <tr>\n",
       "      <th>6</th>\n",
       "      <td>4493010632</td>\n",
       "      <td>1</td>\n",
       "      <td>18</td>\n",
       "      <td>3</td>\n",
       "      <td>1</td>\n",
       "      <td>7</td>\n",
       "      <td>6</td>\n",
       "      <td>7</td>\n",
       "      <td>1</td>\n",
       "      <td>1</td>\n",
       "      <td>...</td>\n",
       "      <td>0</td>\n",
       "      <td>14463</td>\n",
       "      <td>6.4</td>\n",
       "      <td>15404</td>\n",
       "      <td>164</td>\n",
       "      <td>35</td>\n",
       "      <td>-2411</td>\n",
       "      <td>-1563</td>\n",
       "      <td>16.4</td>\n",
       "      <td>1446.3</td>\n",
       "    </tr>\n",
       "    <tr>\n",
       "      <th>7</th>\n",
       "      <td>4496759358</td>\n",
       "      <td>0</td>\n",
       "      <td>16</td>\n",
       "      <td>2</td>\n",
       "      <td>0</td>\n",
       "      <td>5</td>\n",
       "      <td>13</td>\n",
       "      <td>3</td>\n",
       "      <td>0</td>\n",
       "      <td>0</td>\n",
       "      <td>...</td>\n",
       "      <td>0</td>\n",
       "      <td>17920</td>\n",
       "      <td>6.6</td>\n",
       "      <td>16938</td>\n",
       "      <td>157</td>\n",
       "      <td>54</td>\n",
       "      <td>2615</td>\n",
       "      <td>800</td>\n",
       "      <td>15.7</td>\n",
       "      <td>1792.0</td>\n",
       "    </tr>\n",
       "    <tr>\n",
       "      <th>8</th>\n",
       "      <td>4443048030</td>\n",
       "      <td>0</td>\n",
       "      <td>16</td>\n",
       "      <td>3</td>\n",
       "      <td>0</td>\n",
       "      <td>7</td>\n",
       "      <td>7</td>\n",
       "      <td>8</td>\n",
       "      <td>0</td>\n",
       "      <td>0</td>\n",
       "      <td>...</td>\n",
       "      <td>0</td>\n",
       "      <td>18380</td>\n",
       "      <td>7.2</td>\n",
       "      <td>19298</td>\n",
       "      <td>240</td>\n",
       "      <td>53</td>\n",
       "      <td>1979</td>\n",
       "      <td>771</td>\n",
       "      <td>24.0</td>\n",
       "      <td>1838.0</td>\n",
       "    </tr>\n",
       "    <tr>\n",
       "      <th>9</th>\n",
       "      <td>4509433346</td>\n",
       "      <td>1</td>\n",
       "      <td>13</td>\n",
       "      <td>1</td>\n",
       "      <td>1</td>\n",
       "      <td>4</td>\n",
       "      <td>5</td>\n",
       "      <td>5</td>\n",
       "      <td>1</td>\n",
       "      <td>1</td>\n",
       "      <td>...</td>\n",
       "      <td>0</td>\n",
       "      <td>16605</td>\n",
       "      <td>6.8</td>\n",
       "      <td>18379</td>\n",
       "      <td>247</td>\n",
       "      <td>43</td>\n",
       "      <td>1548</td>\n",
       "      <td>1574</td>\n",
       "      <td>24.7</td>\n",
       "      <td>1660.5</td>\n",
       "    </tr>\n",
       "  </tbody>\n",
       "</table>\n",
       "<p>10 rows × 40 columns</p>\n",
       "</div>"
      ],
      "text/plain": [
       "       gameId  blueWins  blueWardsPlaced  blueWardsDestroyed  blueFirstBlood  \\\n",
       "0  4519157822         0               28                   2               1   \n",
       "1  4523371949         0               12                   1               0   \n",
       "2  4521474530         0               15                   0               0   \n",
       "3  4524384067         0               43                   1               0   \n",
       "4  4436033771         0               75                   4               0   \n",
       "5  4475365709         1               18                   0               0   \n",
       "6  4493010632         1               18                   3               1   \n",
       "7  4496759358         0               16                   2               0   \n",
       "8  4443048030         0               16                   3               0   \n",
       "9  4509433346         1               13                   1               1   \n",
       "\n",
       "   blueKills  blueDeaths  blueAssists  blueEliteMonsters  blueDragons  ...  \\\n",
       "0          9           6           11                  0            0  ...   \n",
       "1          5           5            5                  0            0  ...   \n",
       "2          7          11            4                  1            1  ...   \n",
       "3          4           5            5                  1            0  ...   \n",
       "4          6           6            6                  0            0  ...   \n",
       "5          5           3            6                  1            1  ...   \n",
       "6          7           6            7                  1            1  ...   \n",
       "7          5          13            3                  0            0  ...   \n",
       "8          7           7            8                  0            0  ...   \n",
       "9          4           5            5                  1            1  ...   \n",
       "\n",
       "   redTowersDestroyed  redTotalGold  redAvgLevel  redTotalExperience  \\\n",
       "0                   0         16567          6.8               17047   \n",
       "1                   1         17620          6.8               17438   \n",
       "2                   0         17285          6.8               17254   \n",
       "3                   0         16478          7.0               17961   \n",
       "4                   0         17404          7.0               18313   \n",
       "5                   0         15201          7.0               18060   \n",
       "6                   0         14463          6.4               15404   \n",
       "7                   0         17920          6.6               16938   \n",
       "8                   0         18380          7.2               19298   \n",
       "9                   0         16605          6.8               18379   \n",
       "\n",
       "   redTotalMinionsKilled  redTotalJungleMinionsKilled  redGoldDiff  \\\n",
       "0                    197                           55         -643   \n",
       "1                    240                           52         2908   \n",
       "2                    203                           28         1172   \n",
       "3                    235                           47         1321   \n",
       "4                    225                           67         1004   \n",
       "5                    221                           59         -698   \n",
       "6                    164                           35        -2411   \n",
       "7                    157                           54         2615   \n",
       "8                    240                           53         1979   \n",
       "9                    247                           43         1548   \n",
       "\n",
       "   redExperienceDiff  redCSPerMin  redGoldPerMin  \n",
       "0                  8         19.7         1656.7  \n",
       "1               1173         24.0         1762.0  \n",
       "2               1033         20.3         1728.5  \n",
       "3                  7         23.5         1647.8  \n",
       "4               -230         22.5         1740.4  \n",
       "5               -101         22.1         1520.1  \n",
       "6              -1563         16.4         1446.3  \n",
       "7                800         15.7         1792.0  \n",
       "8                771         24.0         1838.0  \n",
       "9               1574         24.7         1660.5  \n",
       "\n",
       "[10 rows x 40 columns]"
      ]
     },
     "execution_count": 2,
     "metadata": {},
     "output_type": "execute_result"
    }
   ],
   "source": [
    "url_lol = 'https://raw.githubusercontent.com/michellyrds/mqaa/master/datasets/high_diamond_ranked_10min.csv'\n",
    "\n",
    "url = url_lol\n",
    "raw_data = pd.read_csv(url)\n",
    "\n",
    "df_raw = raw_data.filter(['blueWardsPlaced', 'blueKills', 'blueDeaths', 'blueEliteMonsters', 'blueGoldDiff'], axis=1)\n",
    "\n",
    "raw_data.head(10)\n"
   ]
  },
  {
   "cell_type": "code",
   "execution_count": 16,
   "metadata": {
    "colab": {
     "base_uri": "https://localhost:8080/"
    },
    "executionInfo": {
     "elapsed": 479,
     "status": "ok",
     "timestamp": 1637886281768,
     "user": {
      "displayName": "Michelly Rodrigues da Silva",
      "photoUrl": "https://lh3.googleusercontent.com/a-/AOh14GgHQG68MCb7bCC1kdtxEgd9Es0QYSfqjcGN8tEULw=s64",
      "userId": "01858923490154251024"
     },
     "user_tz": 180
    },
    "id": "olJxwVNI-3TI",
    "outputId": "8950707d-a3f3-480a-b472-a0fe94375c7c"
   },
   "outputs": [
    {
     "data": {
      "text/plain": [
       "<bound method DataFrame.info of           gameId  blueWins  blueWardsPlaced  blueWardsDestroyed  \\\n",
       "0     4519157822         0               28                   2   \n",
       "1     4523371949         0               12                   1   \n",
       "2     4521474530         0               15                   0   \n",
       "3     4524384067         0               43                   1   \n",
       "4     4436033771         0               75                   4   \n",
       "...          ...       ...              ...                 ...   \n",
       "9874  4527873286         1               17                   2   \n",
       "9875  4527797466         1               54                   0   \n",
       "9876  4527713716         0               23                   1   \n",
       "9877  4527628313         0               14                   4   \n",
       "9878  4523772935         1               18                   0   \n",
       "\n",
       "      blueFirstBlood  blueKills  blueDeaths  blueAssists  blueEliteMonsters  \\\n",
       "0                  1          9           6           11                  0   \n",
       "1                  0          5           5            5                  0   \n",
       "2                  0          7          11            4                  1   \n",
       "3                  0          4           5            5                  1   \n",
       "4                  0          6           6            6                  0   \n",
       "...              ...        ...         ...          ...                ...   \n",
       "9874               1          7           4            5                  1   \n",
       "9875               0          6           4            8                  1   \n",
       "9876               0          6           7            5                  0   \n",
       "9877               1          2           3            3                  1   \n",
       "9878               1          6           6            5                  0   \n",
       "\n",
       "      blueDragons  ...  blueTowersDestroyed  blueTotalGold  blueAvgLevel  \\\n",
       "0               0  ...                    0          17210           6.6   \n",
       "1               0  ...                    0          14712           6.6   \n",
       "2               1  ...                    0          16113           6.4   \n",
       "3               0  ...                    0          15157           7.0   \n",
       "4               0  ...                    0          16400           7.0   \n",
       "...           ...  ...                  ...            ...           ...   \n",
       "9874            1  ...                    0          17765           7.2   \n",
       "9875            1  ...                    0          16238           7.2   \n",
       "9876            0  ...                    0          15903           7.0   \n",
       "9877            1  ...                    0          14459           6.6   \n",
       "9878            0  ...                    0          16266           7.0   \n",
       "\n",
       "      blueTotalExperience  blueTotalMinionsKilled  \\\n",
       "0                   17039                     195   \n",
       "1                   16265                     174   \n",
       "2                   16221                     186   \n",
       "3                   17954                     201   \n",
       "4                   18543                     210   \n",
       "...                   ...                     ...   \n",
       "9874                18967                     211   \n",
       "9875                19255                     233   \n",
       "9876                18032                     210   \n",
       "9877                17229                     224   \n",
       "9878                17321                     207   \n",
       "\n",
       "      blueTotalJungleMinionsKilled  blueGoldDiff  blueExperienceDiff  \\\n",
       "0                               36           643                  -8   \n",
       "1                               43         -2908               -1173   \n",
       "2                               46         -1172               -1033   \n",
       "3                               55         -1321                  -7   \n",
       "4                               57         -1004                 230   \n",
       "...                            ...           ...                 ...   \n",
       "9874                            69          2519                2469   \n",
       "9875                            48           782                 888   \n",
       "9876                            45         -2416               -1877   \n",
       "9877                            48          -839               -1085   \n",
       "9878                            44           927                 -58   \n",
       "\n",
       "      blueCSPerMin  blueGoldPerMin  \n",
       "0             19.5          1721.0  \n",
       "1             17.4          1471.2  \n",
       "2             18.6          1611.3  \n",
       "3             20.1          1515.7  \n",
       "4             21.0          1640.0  \n",
       "...            ...             ...  \n",
       "9874          21.1          1776.5  \n",
       "9875          23.3          1623.8  \n",
       "9876          21.0          1590.3  \n",
       "9877          22.4          1445.9  \n",
       "9878          20.7          1626.6  \n",
       "\n",
       "[9879 rows x 21 columns]>"
      ]
     },
     "execution_count": 16,
     "metadata": {},
     "output_type": "execute_result"
    }
   ],
   "source": [
    "# df = df_raw.rename(columns={'blueWardsPlaced' : 'azulSentinelas', \n",
    "#                             'blueKills' : 'azulAbates',\n",
    "#                             'blueDeaths' : 'azulMortes', \n",
    "#                             'blueEliteMonsters' : 'azulMonstrosEpicos', \n",
    "#                             'blueGoldDiff' : 'azulDiferencaOuros',\n",
    "#                             'blueWardsPlaced': 'azulSentinelasDestruidas'\n",
    "#                             'blueFirstBlood': 'azulPrimeiroAbate',\n",
    "#                             'blueAssists': 'azulAssistencias'\n",
    "#                             })\n",
    "\n",
    "df = raw_data.filter(['gameId', 'blueWins', 'blueWardsPlaced', 'blueWardsDestroyed',\n",
    "       'blueFirstBlood', 'blueKills', 'blueDeaths', 'blueAssists',\n",
    "       'blueEliteMonsters', 'blueDragons', 'blueHeralds',\n",
    "       'blueTowersDestroyed', 'blueTotalGold', 'blueAvgLevel',\n",
    "       'blueTotalExperience', 'blueTotalMinionsKilled',\n",
    "       'blueTotalJungleMinionsKilled', 'blueGoldDiff', 'blueExperienceDiff',\n",
    "       'blueCSPerMin', 'blueGoldPerMin'])\n",
    "df.info\n"
   ]
  },
  {
   "cell_type": "code",
   "execution_count": 4,
   "metadata": {
    "colab": {
     "base_uri": "https://localhost:8080/"
    },
    "executionInfo": {
     "elapsed": 569,
     "status": "ok",
     "timestamp": 1637542053747,
     "user": {
      "displayName": "Thiago de Oliveira Deodato",
      "photoUrl": "https://lh3.googleusercontent.com/a/default-user=s64",
      "userId": "00801346187097752997"
     },
     "user_tz": 180
    },
    "id": "_2HF27ZuS2a-",
    "outputId": "cb1baede-b723-4aa5-88df-0a1af4e5cf10"
   },
   "outputs": [
    {
     "data": {
      "text/plain": [
       "gameId                          0\n",
       "blueWins                        0\n",
       "blueWardsPlaced                 0\n",
       "blueWardsDestroyed              0\n",
       "blueFirstBlood                  0\n",
       "blueKills                       0\n",
       "blueDeaths                      0\n",
       "blueAssists                     0\n",
       "blueEliteMonsters               0\n",
       "blueDragons                     0\n",
       "blueHeralds                     0\n",
       "blueTowersDestroyed             0\n",
       "blueTotalGold                   0\n",
       "blueAvgLevel                    0\n",
       "blueTotalExperience             0\n",
       "blueTotalMinionsKilled          0\n",
       "blueTotalJungleMinionsKilled    0\n",
       "blueGoldDiff                    0\n",
       "blueExperienceDiff              0\n",
       "blueCSPerMin                    0\n",
       "blueGoldPerMin                  0\n",
       "dtype: int64"
      ]
     },
     "execution_count": 4,
     "metadata": {},
     "output_type": "execute_result"
    }
   ],
   "source": [
    "df.isna().sum()"
   ]
  },
  {
   "cell_type": "markdown",
   "metadata": {
    "id": "Lf-RvnZ14qLN"
   },
   "source": [
    "## Objetivo\n",
    "Dado a composição e o desempenho do time azul nos primeiros 10 minutos da partida, deseja-se prever a probabilidade da equipe vencer o jogo (variável binária: vitória ou derrota)."
   ]
  },
  {
   "cell_type": "markdown",
   "metadata": {
    "id": "cF0FvxjntiOm"
   },
   "source": [
    "## Pré-requisitos do modelo logístico\n",
    "1. Resposta binária;\n",
    "2. Relação linear entre o vetor das variáveis explicativas X e o logit da variável resposta Y;\n",
    "3. Sem outliers fortemente influentes;\n",
    "4. Ausência de multicolinearidade perfeita entre as variáveis independentes;\n",
    "4. Independência das observações.\n"
   ]
  },
  {
   "cell_type": "markdown",
   "metadata": {
    "id": "FND_GKxvrT2d"
   },
   "source": [
    "### 1ª suposição: resposta binária\n",
    "Como queremos prever uma resposta vitória ou derrota, que é uma resposta binária, a primeira suposição está satisfeita."
   ]
  },
  {
   "cell_type": "markdown",
   "metadata": {
    "id": "IkAT2f42xq1W"
   },
   "source": [
    "### 2ª suposição: linearidade das variáveis independentes e o logit da variável de resposta Y\n",
    "\n",
    "Para checar a 2ª suposição devemos selecionar as variáveis independentes do dataset, que são as variáveis de composição do time e aplicar o teste de Box-Tidwell."
   ]
  },
  {
   "cell_type": "code",
   "execution_count": 5,
   "metadata": {
    "colab": {
     "base_uri": "https://localhost:8080/"
    },
    "executionInfo": {
     "elapsed": 465,
     "status": "ok",
     "timestamp": 1637886290558,
     "user": {
      "displayName": "Michelly Rodrigues da Silva",
      "photoUrl": "https://lh3.googleusercontent.com/a-/AOh14GgHQG68MCb7bCC1kdtxEgd9Es0QYSfqjcGN8tEULw=s64",
      "userId": "01858923490154251024"
     },
     "user_tz": 180
    },
    "id": "nTUBtmPpTNjp",
    "outputId": "c5fe59c0-df43-4f0f-aa30-96cf607fc684"
   },
   "outputs": [
    {
     "name": "stdout",
     "output_type": "stream",
     "text": [
      "                 Generalized Linear Model Regression Results                  \n",
      "==============================================================================\n",
      "Dep. Variable:               blueWins   No. Observations:                 9879\n",
      "Model:                            GLM   Df Residuals:                     9872\n",
      "Model Family:                Binomial   Df Model:                            6\n",
      "Link Function:                  Logit   Scale:                          1.0000\n",
      "Method:                          IRLS   Log-Likelihood:                -5989.4\n",
      "Date:                Sat, 27 Nov 2021   Deviance:                       11979.\n",
      "Time:                        20:37:25   Pearson chi2:                 9.87e+03\n",
      "No. Iterations:                     4   Pseudo R-squ. (CS):             0.1595\n",
      "Covariance Type:            nonrobust                                         \n",
      "=====================================================================================================================\n",
      "                                                        coef    std err          z      P>|z|      [0.025      0.975]\n",
      "---------------------------------------------------------------------------------------------------------------------\n",
      "blueWardsPlaced                                       0.0176      0.014      1.219      0.223      -0.011       0.046\n",
      "blueTotalMinionsKilled                               -0.0974      0.100     -0.971      0.331      -0.294       0.099\n",
      "blueTotalExperience                                  -0.0086      0.006     -1.516      0.130      -0.020       0.003\n",
      "blueWardsPlaced:Log_blueWardsPlaced                  -0.0039      0.003     -1.335      0.182      -0.010       0.002\n",
      "blueTotalMinionsKilled:Log_blueTotalMinionsKilled     0.0153      0.016      0.972      0.331      -0.016       0.046\n",
      "blueTotalExperience:Log_blueTotalExperience           0.0009      0.001      1.657      0.098      -0.000       0.002\n",
      "const                                                 4.3632      9.041      0.483      0.629     -13.356      22.082\n",
      "=====================================================================================================================\n"
     ]
    }
   ],
   "source": [
    "independent_vars = df.filter(['blueWardsPlaced', 'blueTotalMinionsKilled', 'blueTotalExperience'])\n",
    "\n",
    "independent_vars_columns = ['blueWardsPlaced', 'blueTotalMinionsKilled', 'blueTotalExperience']\n",
    "\n",
    "for var in independent_vars_columns:\n",
    "  df[f'{var}:Log_{var}'] = df[var].apply(lambda x: x * np.log(x))\n",
    "\n",
    "cols_to_keep = independent_vars_columns + df.columns.tolist()[-len(independent_vars_columns):]\n",
    "\n",
    "X, y = df.loc[:, df.columns!='blueWins'], df.filter(['blueWins'], axis=1) \n",
    "\n",
    "X_lt = df[cols_to_keep]\n",
    "\n",
    "X_lt = sm.add_constant(X_lt, prepend=False)\n",
    "\n",
    "logit_results = sm.GLM(y, X_lt, family=sm.families.Binomial()).fit()\n",
    "\n",
    "print(logit_results.summary())\n"
   ]
  },
  {
   "cell_type": "markdown",
   "metadata": {
    "id": "6eo-PDx4Uhf8"
   },
   "source": [
    "Verificando a significância estatística de blueWardsPlaced:Log_blueWardsPlaced e blueTotalMinionsKilled:Log_blueTotalMinionsKilled baseado no p-value:\n",
    "\n",
    "Vemos que as variáveis **blueWardsPlaced:Log_blueWardsPlaced**, **blueTotalMinionsKilled:Log_blueTotalMinionsKilled** e **blueTotalExperience** tem seu **p-value > 0.05**, logo, são linearmente relatadas ao seu logit."
   ]
  },
  {
   "cell_type": "markdown",
   "metadata": {
    "id": "YfaZIgrGVznB"
   },
   "source": [
    "Ainda sim, podemos verificar visualmente o teste da linearidade relatada ao logit das variáveis para confirmar o teste:"
   ]
  },
  {
   "cell_type": "code",
   "execution_count": 6,
   "metadata": {
    "colab": {
     "base_uri": "https://localhost:8080/",
     "height": 279
    },
    "executionInfo": {
     "elapsed": 538,
     "status": "ok",
     "timestamp": 1637542065277,
     "user": {
      "displayName": "Thiago de Oliveira Deodato",
      "photoUrl": "https://lh3.googleusercontent.com/a/default-user=s64",
      "userId": "00801346187097752997"
     },
     "user_tz": 180
    },
    "id": "iTVdkw7CV0co",
    "outputId": "9a78e86b-77db-4be7-c7bb-a634467e3dbf"
   },
   "outputs": [
    {
     "data": {
      "image/png": "[encoded data removed]",
      "text/plain": [
       "<Figure size 432x288 with 1 Axes>"
      ]
     },
     "metadata": {
      "needs_background": "light"
     },
     "output_type": "display_data"
    }
   ],
   "source": [
    "X, y = df.loc[:, df.columns!='blueWins'], df.filter(['blueWins'], axis=1) \n",
    "\n",
    "logit_results = sm.GLM(y, X, family=sm.families.Binomial()).fit()\n",
    "predicted = logit_results.predict(X)\n",
    "\n",
    "log_odds = np.log(predicted / (1 - predicted))\n",
    "\n",
    "plt.scatter(x = df['blueWardsPlaced'].values, y = log_odds)\n",
    "plt.xlabel(\"blueWardsPlaced\")\n",
    "plt.ylabel(\"Log-odds\")\n",
    "plt.show()"
   ]
  },
  {
   "cell_type": "code",
   "execution_count": 7,
   "metadata": {
    "colab": {
     "base_uri": "https://localhost:8080/",
     "height": 279
    },
    "executionInfo": {
     "elapsed": 559,
     "status": "ok",
     "timestamp": 1637886589813,
     "user": {
      "displayName": "Michelly Rodrigues da Silva",
      "photoUrl": "https://lh3.googleusercontent.com/a-/AOh14GgHQG68MCb7bCC1kdtxEgd9Es0QYSfqjcGN8tEULw=s64",
      "userId": "01858923490154251024"
     },
     "user_tz": 180
    },
    "id": "ZFi_R9gRpTAM",
    "outputId": "f9b94687-3adf-4906-da21-2bb282efa61f"
   },
   "outputs": [
    {
     "data": {
      "image/png": "[encoded data removed]",
      "text/plain": [
       "<Figure size 432x288 with 1 Axes>"
      ]
     },
     "metadata": {
      "needs_background": "light"
     },
     "output_type": "display_data"
    }
   ],
   "source": [
    "X, y = df.loc[:, df.columns!='blueWins'], df.filter(['blueWins'], axis=1) \n",
    "\n",
    "logit_results = sm.GLM(y, X, family=sm.families.Binomial()).fit()\n",
    "predicted = logit_results.predict(X)\n",
    "\n",
    "log_odds = np.log(predicted / (1 - predicted))\n",
    "\n",
    "plt.scatter(x = df['blueTotalMinionsKilled'].values, y = log_odds)\n",
    "plt.xlabel(\"blueTotalMinionsKilled\")\n",
    "plt.ylabel(\"Log-odds\")\n",
    "plt.show()"
   ]
  },
  {
   "cell_type": "code",
   "execution_count": 8,
   "metadata": {
    "colab": {
     "base_uri": "https://localhost:8080/",
     "height": 279
    },
    "executionInfo": {
     "elapsed": 1228,
     "status": "ok",
     "timestamp": 1637886594606,
     "user": {
      "displayName": "Michelly Rodrigues da Silva",
      "photoUrl": "https://lh3.googleusercontent.com/a-/AOh14GgHQG68MCb7bCC1kdtxEgd9Es0QYSfqjcGN8tEULw=s64",
      "userId": "01858923490154251024"
     },
     "user_tz": 180
    },
    "id": "MWhoDbzVpUIA",
    "outputId": "8a8ba794-410c-4265-da45-f406b85c9b7f"
   },
   "outputs": [
    {
     "data": {
      "image/png": "[encoded data removed]",
      "text/plain": [
       "<Figure size 432x288 with 1 Axes>"
      ]
     },
     "metadata": {
      "needs_background": "light"
     },
     "output_type": "display_data"
    }
   ],
   "source": [
    "X, y = df.loc[:, df.columns!='blueWins'], df.filter(['blueWins'], axis=1) \n",
    "\n",
    "logit_results = sm.GLM(y, X, family=sm.families.Binomial()).fit()\n",
    "predicted = logit_results.predict(X)\n",
    "\n",
    "log_odds = np.log(predicted / (1 - predicted))\n",
    "\n",
    "plt.scatter(x = df['blueTotalExperience'].values, y = log_odds)\n",
    "plt.xlabel(\"blueTotalExperience\")\n",
    "plt.ylabel(\"Log-odds\")\n",
    "plt.show()"
   ]
  },
  {
   "cell_type": "markdown",
   "metadata": {
    "id": "Dg96Xinjrt2K"
   },
   "source": [
    "### 3ª suposição: sem outliers fortemente influentes\n",
    "\n",
    "Utilizaremos a distância de Cook para medir a influência de uma observação."
   ]
  },
  {
   "cell_type": "code",
   "execution_count": 9,
   "metadata": {
    "colab": {
     "base_uri": "https://localhost:8080/",
     "height": 400
    },
    "executionInfo": {
     "elapsed": 287,
     "status": "ok",
     "timestamp": 1637627091346,
     "user": {
      "displayName": "Michelly Rodrigues da Silva",
      "photoUrl": "https://lh3.googleusercontent.com/a-/AOh14GgHQG68MCb7bCC1kdtxEgd9Es0QYSfqjcGN8tEULw=s64",
      "userId": "01858923490154251024"
     },
     "user_tz": 180
    },
    "id": "ygC9MOHwuCZ0",
    "outputId": "b8a56a3c-0559-4b91-cd07-7bfbb9b96bc1"
   },
   "outputs": [
    {
     "name": "stderr",
     "output_type": "stream",
     "text": [
      "/tmp/ipykernel_23078/313311843.py:17: SettingWithCopyWarning: \n",
      "A value is trying to be set on a copy of a slice from a DataFrame.\n",
      "Try using .loc[row_indexer,col_indexer] = value instead\n",
      "\n",
      "See the caveats in the documentation: https://pandas.pydata.org/pandas-docs/stable/user_guide/indexing.html#returning-a-view-versus-a-copy\n",
      "  diagnosis_df['std_resid'] = st.zscore(logit_results.resid_pearson)\n",
      "/tmp/ipykernel_23078/313311843.py:18: SettingWithCopyWarning: \n",
      "A value is trying to be set on a copy of a slice from a DataFrame.\n",
      "Try using .loc[row_indexer,col_indexer] = value instead\n",
      "\n",
      "See the caveats in the documentation: https://pandas.pydata.org/pandas-docs/stable/user_guide/indexing.html#returning-a-view-versus-a-copy\n",
      "  diagnosis_df['std_resid'] = diagnosis_df['std_resid'].apply(lambda x: np.abs(x))\n"
     ]
    },
    {
     "data": {
      "text/html": [
       "<div>\n",
       "<style scoped>\n",
       "    .dataframe tbody tr th:only-of-type {\n",
       "        vertical-align: middle;\n",
       "    }\n",
       "\n",
       "    .dataframe tbody tr th {\n",
       "        vertical-align: top;\n",
       "    }\n",
       "\n",
       "    .dataframe thead th {\n",
       "        text-align: right;\n",
       "    }\n",
       "</style>\n",
       "<table border=\"1\" class=\"dataframe\">\n",
       "  <thead>\n",
       "    <tr style=\"text-align: right;\">\n",
       "      <th></th>\n",
       "      <th>cooks_d</th>\n",
       "      <th>std_resid</th>\n",
       "    </tr>\n",
       "  </thead>\n",
       "  <tbody>\n",
       "    <tr>\n",
       "      <th>1194</th>\n",
       "      <td>0.001559</td>\n",
       "      <td>4.051948</td>\n",
       "    </tr>\n",
       "    <tr>\n",
       "      <th>7286</th>\n",
       "      <td>0.001316</td>\n",
       "      <td>3.417986</td>\n",
       "    </tr>\n",
       "    <tr>\n",
       "      <th>3359</th>\n",
       "      <td>0.001197</td>\n",
       "      <td>4.771672</td>\n",
       "    </tr>\n",
       "    <tr>\n",
       "      <th>9608</th>\n",
       "      <td>0.001037</td>\n",
       "      <td>6.739349</td>\n",
       "    </tr>\n",
       "    <tr>\n",
       "      <th>8554</th>\n",
       "      <td>0.001030</td>\n",
       "      <td>5.661852</td>\n",
       "    </tr>\n",
       "  </tbody>\n",
       "</table>\n",
       "</div>"
      ],
      "text/plain": [
       "       cooks_d  std_resid\n",
       "1194  0.001559   4.051948\n",
       "7286  0.001316   3.417986\n",
       "3359  0.001197   4.771672\n",
       "9608  0.001037   6.739349\n",
       "8554  0.001030   5.661852"
      ]
     },
     "execution_count": 9,
     "metadata": {},
     "output_type": "execute_result"
    }
   ],
   "source": [
    "# Use GLM method for logreg here so that we can retrieve the influence measures\n",
    "logit_results = sm.GLM(y, X, family=sm.families.Binomial()).fit()\n",
    "\n",
    "# Get influence measures\n",
    "influence = logit_results.get_influence()\n",
    "\n",
    "# Obtain summary df of influence measures\n",
    "summ_df = influence.summary_frame()\n",
    "\n",
    "# Filter summary df to Cook's distance values only\n",
    "diagnosis_df = summ_df[['cooks_d']]\n",
    "\n",
    "# Set Cook's distance threshold\n",
    "cook_threshold = 4 / len(df)\n",
    "\n",
    "# Append absolute standardized residual values \n",
    "diagnosis_df['std_resid'] = st.zscore(logit_results.resid_pearson)\n",
    "diagnosis_df['std_resid'] = diagnosis_df['std_resid'].apply(lambda x: np.abs(x))\n",
    "\n",
    "# Find observations which are BOTH outlier (std dev > 3) and highly influential\n",
    "extreme = diagnosis_df[(diagnosis_df['cooks_d'] > cook_threshold) & \n",
    "                       (diagnosis_df['std_resid'] > 3)]\n",
    "\n",
    "# Show top 5 highly influential outlier observations\n",
    "extreme.sort_values(\"cooks_d\", ascending=False).head()"
   ]
  },
  {
   "cell_type": "markdown",
   "metadata": {
    "id": "7yAOn__rvYuW"
   },
   "source": [
    "Na tabela acima, identificamos todos os outliers mais influentes do dataset, ou seja, dados com valores residuais padronizados absolutos maiores que 3 (exibindo os 5 primeiros). Com isso, basta excluí-los do dataset original."
   ]
  },
  {
   "cell_type": "code",
   "execution_count": 10,
   "metadata": {
    "id": "8M1BA_RMvyMv"
   },
   "outputs": [],
   "source": [
    "df = df.drop(diagnosis_df[(diagnosis_df['cooks_d'] > cook_threshold) & \n",
    "                       (diagnosis_df['std_resid'] > 3)].index)"
   ]
  },
  {
   "cell_type": "markdown",
   "metadata": {
    "id": "FkKZ1Ak963Gk"
   },
   "source": [
    "### 4ª suposição: ausência de multicolinearidade perfeita entre as variáveis independentes\n",
    "\n",
    "Para realizar tal teste, usaremos o variance inflation factor (VIF)."
   ]
  },
  {
   "cell_type": "code",
   "execution_count": 11,
   "metadata": {
    "colab": {
     "base_uri": "https://localhost:8080/",
     "height": 143
    },
    "executionInfo": {
     "elapsed": 323,
     "status": "ok",
     "timestamp": 1637542072492,
     "user": {
      "displayName": "Thiago de Oliveira Deodato",
      "photoUrl": "https://lh3.googleusercontent.com/a/default-user=s64",
      "userId": "00801346187097752997"
     },
     "user_tz": 180
    },
    "id": "QrUmXMfVbPUk",
    "outputId": "b817abc2-b0d3-4abe-fcd8-dc751846dfc3"
   },
   "outputs": [
    {
     "data": {
      "text/html": [
       "<div>\n",
       "<style scoped>\n",
       "    .dataframe tbody tr th:only-of-type {\n",
       "        vertical-align: middle;\n",
       "    }\n",
       "\n",
       "    .dataframe tbody tr th {\n",
       "        vertical-align: top;\n",
       "    }\n",
       "\n",
       "    .dataframe thead th {\n",
       "        text-align: right;\n",
       "    }\n",
       "</style>\n",
       "<table border=\"1\" class=\"dataframe\">\n",
       "  <thead>\n",
       "    <tr style=\"text-align: right;\">\n",
       "      <th></th>\n",
       "      <th>variables</th>\n",
       "      <th>VIF</th>\n",
       "    </tr>\n",
       "  </thead>\n",
       "  <tbody>\n",
       "    <tr>\n",
       "      <th>0</th>\n",
       "      <td>blueWardsPlaced</td>\n",
       "      <td>2.531855</td>\n",
       "    </tr>\n",
       "    <tr>\n",
       "      <th>1</th>\n",
       "      <td>blueTotalMinionsKilled</td>\n",
       "      <td>146.181893</td>\n",
       "    </tr>\n",
       "    <tr>\n",
       "      <th>2</th>\n",
       "      <td>blueTotalExperience</td>\n",
       "      <td>149.421702</td>\n",
       "    </tr>\n",
       "  </tbody>\n",
       "</table>\n",
       "</div>"
      ],
      "text/plain": [
       "                variables         VIF\n",
       "0         blueWardsPlaced    2.531855\n",
       "1  blueTotalMinionsKilled  146.181893\n",
       "2     blueTotalExperience  149.421702"
      ]
     },
     "execution_count": 11,
     "metadata": {},
     "output_type": "execute_result"
    }
   ],
   "source": [
    "from statsmodels.stats.outliers_influence import variance_inflation_factor\n",
    "\n",
    "independent_vars = df.filter(['blueWardsPlaced', 'blueTotalMinionsKilled', 'blueTotalExperience']) \n",
    "\n",
    "def calc_vif(df):\n",
    "    vif = pd.DataFrame()\n",
    "    vif[\"variables\"] = df.columns\n",
    "    vif[\"VIF\"] = [variance_inflation_factor(df.values, i) for i in range(df.shape[1])]\n",
    "    return(vif)\n",
    "\n",
    "calc_vif(independent_vars)"
   ]
  },
  {
   "cell_type": "markdown",
   "metadata": {
    "id": "SUC2JwRRd1HR"
   },
   "source": [
    "Valores de VIF que excedem 5 ou 10 indicam ao alto grau de multicolinearidade. Logo, pelo teste, vemos que existe multicolinearidade entre as variáveis **blueTotalMinionsKilled** e **blueTotalExperience**.\n"
   ]
  },
  {
   "cell_type": "code",
   "execution_count": 12,
   "metadata": {
    "colab": {
     "base_uri": "https://localhost:8080/",
     "height": 370
    },
    "executionInfo": {
     "elapsed": 397,
     "status": "ok",
     "timestamp": 1637542074093,
     "user": {
      "displayName": "Thiago de Oliveira Deodato",
      "photoUrl": "https://lh3.googleusercontent.com/a/default-user=s64",
      "userId": "00801346187097752997"
     },
     "user_tz": 180
    },
    "id": "HSspeqH_dxM0",
    "outputId": "b3989ff8-4ac2-4eac-dad4-4a391e3985f6"
   },
   "outputs": [
    {
     "data": {
      "image/png": "[encoded data removed]",
      "text/plain": [
       "<Figure size 432x288 with 2 Axes>"
      ]
     },
     "metadata": {
      "needs_background": "light"
     },
     "output_type": "display_data"
    }
   ],
   "source": [
    "import seaborn as sb\n",
    "\n",
    "# fig = plt.figure(figsize=(17,14))\n",
    "# dataplot = sb.heatmap(df.corr(), cmap=\"YlGnBu\", annot=True)\n",
    "dataplot = sb.heatmap(independent_vars.corr(), cmap=\"YlGnBu\", annot=True)\n",
    "  \n",
    "plt.show()"
   ]
  },
  {
   "cell_type": "markdown",
   "metadata": {
    "id": "S4YIDRV6fkaC"
   },
   "source": [
    "Outra forma de verificar a multicolinearidade é por meio da matriz de correlação. Como não existe multicolineridade perfeita (= 1), seguiremos com a aplicação do modelo utilizando as variáveis blueTotalMinionsKilled e blueTotalExperience."
   ]
  },
  {
   "cell_type": "markdown",
   "metadata": {
    "id": "c0ciLqMtrLtX"
   },
   "source": [
    "### 5ª suposição: independência das observações\n",
    "\n",
    "As observações devem ser independentes entre si. Dado que cada linha do dataset consiste de uma partida diferente (gameId único), podemos concluir que as observações são independentes. \n",
    "\n",
    "Ainda assim, para testar tal condição, podemos plotar uma série residual com os resíduos de desvio do modelo logit vs o número de linhas do dataset.\n"
   ]
  },
  {
   "cell_type": "code",
   "execution_count": 14,
   "metadata": {
    "colab": {
     "base_uri": "https://localhost:8080/",
     "height": 367
    },
    "executionInfo": {
     "elapsed": 788,
     "status": "ok",
     "timestamp": 1637586890550,
     "user": {
      "displayName": "Michelly Rodrigues da Silva",
      "photoUrl": "https://lh3.googleusercontent.com/a-/AOh14GgHQG68MCb7bCC1kdtxEgd9Es0QYSfqjcGN8tEULw=s64",
      "userId": "01858923490154251024"
     },
     "user_tz": 180
    },
    "id": "tlJ2v985x3Bu",
    "outputId": "b37f764f-bbce-4994-8b35-17ca22761195"
   },
   "outputs": [
    {
     "data": {
      "text/plain": [
       "<matplotlib.lines.Line2D at 0x7fe5b1ed5b50>"
      ]
     },
     "execution_count": 14,
     "metadata": {},
     "output_type": "execute_result"
    },
    {
     "data": {
      "image/png": "[encoded data removed]",
      "text/plain": [
       "<Figure size 576x360 with 1 Axes>"
      ]
     },
     "metadata": {
      "needs_background": "light"
     },
     "output_type": "display_data"
    }
   ],
   "source": [
    "# Setup logistic regression model using GLM method so that we can retrieve residuals\n",
    "X, y = df.loc[:, df.columns!='blueWins'], df.filter(['blueWins'], axis=1) \n",
    "\n",
    "logit_results = sm.GLM(y, X, family=sm.families.Binomial()).fit()\n",
    "\n",
    "# Setup plot \n",
    "fig = plt.figure(figsize=(8,5))\n",
    "ax = fig.add_subplot(111, title=\"Residual Series Plot\",\n",
    "                     xlabel=\"Index Number\", \n",
    "                     ylabel=\"Deviance Residuals\")\n",
    "\n",
    "# Generate residual series plot using standardized deviance residuals\n",
    "ax.plot(df.index.tolist(), \n",
    "        st.zscore(logit_results.resid_deviance))\n",
    "\n",
    "# Draw horizontal line at y=0\n",
    "plt.axhline(y = 0, ls=\"--\", color='red')"
   ]
  },
  {
   "cell_type": "markdown",
   "metadata": {
    "id": "n73S_sI7x2xm"
   },
   "source": [
    "Como os resíduos no gráfico parecem estar espalhados aleatoriamente em torno da linha central, podemos inferir que a suposição é satisfeita."
   ]
  },
  {
   "cell_type": "markdown",
   "metadata": {
    "id": "lqYEpBh60Lxq"
   },
   "source": [
    "## Aplicando a regressão logística"
   ]
  },
  {
   "cell_type": "markdown",
   "metadata": {
    "id": "paUo6ypqsOSj"
   },
   "source": [
    "Pré-processamento do dataset para aplicação do modelo logístico"
   ]
  },
  {
   "cell_type": "code",
   "execution_count": 17,
   "metadata": {
    "id": "iP0EhxehmAGg"
   },
   "outputs": [],
   "source": [
    "from sklearn.model_selection import train_test_split\n",
    "\n",
    "df = df.drop(diagnosis_df[(diagnosis_df['cooks_d'] > cook_threshold) & \n",
    "                       (diagnosis_df['std_resid'] > 3)].index)\n",
    "\n",
    "normalized_df = (df - df.min())/(df.max()-df.min())\n",
    "\n",
    "X, y = normalized_df.loc[:, normalized_df.columns!='blueWins'], normalized_df.filter(['blueWins'], axis=1)\n",
    "\n",
    "X_train, X_test, y_train, y_test = train_test_split(X, y, test_size=0.3)"
   ]
  },
  {
   "cell_type": "markdown",
   "metadata": {
    "id": "ND_xSZG4tJX9"
   },
   "source": [
    "## Criação do modelo\n",
    "\n"
   ]
  },
  {
   "cell_type": "code",
   "execution_count": 18,
   "metadata": {
    "colab": {
     "base_uri": "https://localhost:8080/"
    },
    "executionInfo": {
     "elapsed": 476,
     "status": "ok",
     "timestamp": 1637630523597,
     "user": {
      "displayName": "Michelly Rodrigues da Silva",
      "photoUrl": "https://lh3.googleusercontent.com/a-/AOh14GgHQG68MCb7bCC1kdtxEgd9Es0QYSfqjcGN8tEULw=s64",
      "userId": "01858923490154251024"
     },
     "user_tz": 180
    },
    "id": "cVZXB0pDtOob",
    "outputId": "7517de05-48f9-4dc0-ed87-87e30b14b7cd"
   },
   "outputs": [
    {
     "name": "stderr",
     "output_type": "stream",
     "text": [
      "/home/michelly/.local/lib/python3.8/site-packages/sklearn/utils/validation.py:985: DataConversionWarning: A column-vector y was passed when a 1d array was expected. Please change the shape of y to (n_samples, ), for example using ravel().\n",
      "  y = column_or_1d(y, warn=True)\n"
     ]
    },
    {
     "name": "stdout",
     "output_type": "stream",
     "text": [
      "[0. 1. 0. ... 0. 1. 0.]\n"
     ]
    }
   ],
   "source": [
    "from sklearn.linear_model import LogisticRegression\n",
    "reg =  LogisticRegression().fit(X_train,y_train)\n",
    "y_pred = reg.predict(X_test)\n",
    "\n",
    "print(y_pred)"
   ]
  },
  {
   "cell_type": "markdown",
   "metadata": {
    "id": "sEGAi2UG7kPY"
   },
   "source": [
    "## Avaliação da adequação do modelo"
   ]
  },
  {
   "cell_type": "code",
   "execution_count": 20,
   "metadata": {
    "colab": {
     "base_uri": "https://localhost:8080/"
    },
    "executionInfo": {
     "elapsed": 104,
     "status": "ok",
     "timestamp": 1637630418970,
     "user": {
      "displayName": "Michelly Rodrigues da Silva",
      "photoUrl": "https://lh3.googleusercontent.com/a-/AOh14GgHQG68MCb7bCC1kdtxEgd9Es0QYSfqjcGN8tEULw=s64",
      "userId": "01858923490154251024"
     },
     "user_tz": 180
    },
    "id": "83EdZHnI7kPY",
    "outputId": "12f92fd6-a368-4de3-ec35-7e1680de56f3"
   },
   "outputs": [
    {
     "name": "stdout",
     "output_type": "stream",
     "text": [
      "A acurácia do modelo é de 73.677%"
     ]
    }
   ],
   "source": [
    "count_correct = 0\n",
    "\n",
    "for x in range(y_test.size):\n",
    "  if(y_test.iloc[x]['blueWins'] == y_pred.item(x)):\n",
    "    count_correct = count_correct + 1\n",
    "accuracy = count_correct / y_test.size * 100\n",
    "print(\"A acurácia do modelo é de \", end = '')\n",
    "print(\"%.3f\" % accuracy, end = '')\n",
    "print(\"%\", end = '')\n"
   ]
  },
  {
   "cell_type": "code",
   "execution_count": 21,
   "metadata": {
    "colab": {
     "base_uri": "https://localhost:8080/"
    },
    "executionInfo": {
     "elapsed": 581,
     "status": "ok",
     "timestamp": 1637630457479,
     "user": {
      "displayName": "Michelly Rodrigues da Silva",
      "photoUrl": "https://lh3.googleusercontent.com/a-/AOh14GgHQG68MCb7bCC1kdtxEgd9Es0QYSfqjcGN8tEULw=s64",
      "userId": "01858923490154251024"
     },
     "user_tz": 180
    },
    "id": "uDJykyGxM2qm",
    "outputId": "1c46c7ff-c1bf-497b-b4c9-075780de4b0e"
   },
   "outputs": [
    {
     "name": "stdout",
     "output_type": "stream",
     "text": [
      "Coeficientes da equação do modelo:\n",
      "[[ 0.34106156 -0.6207752  -0.12996371  0.0891292   0.89300989 -2.06546098\n",
      "  -0.40633373  0.16965797  0.36337469 -0.02405875 -0.3654088   1.16214352\n",
      "   0.21825248 -0.33724195 -0.02259189  0.52363425  4.86302436  4.73700627\n",
      "  -0.02259189  1.16214352]]\n",
      "\n",
      "Bias adicionadas à função de decisão:\n",
      "[-6.12824727]\n"
     ]
    }
   ],
   "source": [
    "print(\"Coeficientes da equação do modelo:\\n{}\\n\".format(reg.coef_))\n",
    "\n",
    "print(\"Bias adicionadas à função de decisão:\\n{}\".format(reg.intercept_))"
   ]
  },
  {
   "cell_type": "markdown",
   "metadata": {
    "id": "Eg3e0gDsTc_X"
   },
   "source": [
    "## to do"
   ]
  },
  {
   "cell_type": "markdown",
   "metadata": {
    "id": "iUrftIURQIWB"
   },
   "source": [
    "### Likelihood Ratio Test"
   ]
  },
  {
   "cell_type": "code",
   "execution_count": null,
   "metadata": {
    "id": "YickRUBDQTu9"
   },
   "outputs": [],
   "source": []
  },
  {
   "cell_type": "markdown",
   "metadata": {
    "id": "7-KsBUGhO9X0"
   },
   "source": [
    "### Pseudo R^2"
   ]
  },
  {
   "cell_type": "code",
   "execution_count": null,
   "metadata": {
    "id": "-9o8JAwwO8uc"
   },
   "outputs": [],
   "source": []
  },
  {
   "cell_type": "markdown",
   "metadata": {
    "id": "0ERDlWhpQVHV"
   },
   "source": [
    "### Teste de Hosmer-Lemeshow"
   ]
  },
  {
   "cell_type": "code",
   "execution_count": null,
   "metadata": {
    "id": "TC6VR5ncQYDJ"
   },
   "outputs": [],
   "source": []
  },
  {
   "cell_type": "markdown",
   "metadata": {
    "id": "OzstrwS4QdyE"
   },
   "source": [
    "### Teste Wald"
   ]
  },
  {
   "cell_type": "code",
   "execution_count": null,
   "metadata": {
    "id": "0oUNwlsaQf2x"
   },
   "outputs": [],
   "source": []
  },
  {
   "cell_type": "markdown",
   "metadata": {
    "id": "DQHEhfWJtQWn"
   },
   "source": [
    "## Interpretação dos resultados\n",
    "\n",
    "  O resultado apresentado pelos cálculos utilizando regressão logística foi de uma predição com uma acurácia de 73,677%. Este valor representa a quantidade de partidas que o algoritmo foi capaz de realizar uma predição correta, utilizando apenas os dados dos primeiros 10 minutos de partida.\n",
    "\n",
    "  Antes de tirarmos conclusões sobre o quão efetivo essa acurácia obtida pelo algoritmo é, temos que ressaltar pontos importantes sobre como o jogo funciona. O primeiro ponto é de que nós estamos avaliando apenas os dados do ranque diamante, ou seja, nós não podemos supor que essa acurácia se manteria para jogadores de outros níveis, pois o peso dos fatores se alteraria, já que há diversas maneiras de se ganhar uma partida e jogadores de níveis diferentes de habilidade podem dar prioridades distintas a certas mecânicas do jogo. O segundo ponto é o de que as partidas do ranque diamante duram, em média, 26 minutos, entretanto, existem os casos mais extremos de partidas durando 15 minutos ou 40, 50 minutos. Nessa análise, nós não avaliamos se o algoritmo perde ou ganha efetividade nos extremos, pois não há a informação da duração das partidas no dataset, embora logicamente há a hipótese de que o algoritmo perderia efetividade caso as partidas se estendessem em duração, visto que o jogo tem mecânicas que permitem que o time que está atrás se recupere na partida conforme o tempo passa.\n",
    "\n",
    "  Tendo feito as ressalvas, nós podemos concluir que o algoritmo obteve uma acurácia alta. Esta conclusão se deve ao fato de que o jogo tem muitos fatores de imprevisibilidade, como por exemplo, mecânicas que dependem de frações de segundo para serem executadas e que podem resultar na derrota dos 5 jogadores da equipe. Além disso, existe um cenário em que a aplicação de um algoritmo desse tipo é muito relevante: apostas online. Caso nós realizássemos apostas em quem ganharia as partidas, nós obteriamos muito lucro caso seguíssemos a conclusão do algoritmo."
   ]
  },
  {
   "cell_type": "markdown",
   "metadata": {
    "id": "mIOOEHyO3QVY"
   },
   "source": [
    "## Referências\n",
    "https://pt.wikipedia.org/wiki/Regress%C3%A3o_log%C3%ADstica\n",
    "\n",
    "\n",
    "---\n",
    "https://www.statisticssolutions.com/free-resources/directory-of-statistical-analyses/assumptions-of-logistic-regression/\n",
    "\n",
    "\n",
    "---\n",
    "https://towardsdatascience.com/assumptions-of-logistic-regression-clearly-explained-44d85a22b290\n",
    "\n"
   ]
  }
 ],
 "metadata": {
  "colab": {
   "collapsed_sections": [],
   "name": "TD3-RLog.ipynb",
   "provenance": []
  },
  "kernelspec": {
   "display_name": "Python 3 (ipykernel)",
   "language": "python",
   "name": "python3"
  },
  "language_info": {
   "codemirror_mode": {
    "name": "ipython",
    "version": 3
   },
   "file_extension": ".py",
   "mimetype": "text/x-python",
   "name": "python",
   "nbconvert_exporter": "python",
   "pygments_lexer": "ipython3",
   "version": "3.8.10"
  }
 },
 "nbformat": 4,
 "nbformat_minor": 1
}
